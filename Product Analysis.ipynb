{
  "nbformat": 4,
  "nbformat_minor": 0,
  "metadata": {
    "kernelspec": {
      "display_name": "Python 3",
      "language": "python",
      "name": "python3"
    },
    "language_info": {
      "codemirror_mode": {
        "name": "ipython",
        "version": 3
      },
      "file_extension": ".py",
      "mimetype": "text/x-python",
      "name": "python",
      "nbconvert_exporter": "python",
      "pygments_lexer": "ipython3",
      "version": "3.8.2"
    },
    "colab": {
      "name": "Project-4-Group-25.ipynb",
      "provenance": []
    }
  },
  "cells": [
    {
      "cell_type": "markdown",
      "metadata": {
        "id": "Onk4auqY9_T3"
      },
      "source": [
        "## Product Analytics"
      ]
    },
    {
      "cell_type": "code",
      "metadata": {
        "id": "9IX-WWng9_T4"
      },
      "source": [
        "# Import  the appropriate libraries\n",
        "\n",
        "import matplotlib.pyplot as plt\n",
        "import pandas as pd\n",
        "import datetime as dt\n",
        "%matplotlib inline"
      ],
      "execution_count": null,
      "outputs": []
    },
    {
      "cell_type": "code",
      "metadata": {
        "id": "OihRPuS49_T5"
      },
      "source": [
        "# import the dataset from UCI machine learning laboratory site. It is an excel file\n",
        "df = pd.read_excel('Online Retail.xlsx', sheet_name='Online Retail')"
      ],
      "execution_count": null,
      "outputs": []
    },
    {
      "cell_type": "code",
      "metadata": {
        "id": "7TlCFnSi9_T5",
        "outputId": "6c0e9acc-1c36-4cf3-b4bf-4d32485d08ac"
      },
      "source": [
        "# Check the shape\n",
        "df.shape"
      ],
      "execution_count": null,
      "outputs": [
        {
          "output_type": "execute_result",
          "data": {
            "text/plain": [
              "(541909, 8)"
            ]
          },
          "metadata": {
            "tags": []
          },
          "execution_count": 222
        }
      ]
    },
    {
      "cell_type": "code",
      "metadata": {
        "id": "NdxwrOdg9_T6",
        "outputId": "5267652b-67c0-431e-cc27-f4942f078c51"
      },
      "source": [
        "# Use the head function\n",
        "df.head(10)"
      ],
      "execution_count": null,
      "outputs": [
        {
          "output_type": "execute_result",
          "data": {
            "text/html": [
              "<div>\n",
              "<style scoped>\n",
              "    .dataframe tbody tr th:only-of-type {\n",
              "        vertical-align: middle;\n",
              "    }\n",
              "\n",
              "    .dataframe tbody tr th {\n",
              "        vertical-align: top;\n",
              "    }\n",
              "\n",
              "    .dataframe thead th {\n",
              "        text-align: right;\n",
              "    }\n",
              "</style>\n",
              "<table border=\"1\" class=\"dataframe\">\n",
              "  <thead>\n",
              "    <tr style=\"text-align: right;\">\n",
              "      <th></th>\n",
              "      <th>InvoiceNo</th>\n",
              "      <th>StockCode</th>\n",
              "      <th>Description</th>\n",
              "      <th>Quantity</th>\n",
              "      <th>InvoiceDate</th>\n",
              "      <th>UnitPrice</th>\n",
              "      <th>CustomerID</th>\n",
              "      <th>Country</th>\n",
              "    </tr>\n",
              "  </thead>\n",
              "  <tbody>\n",
              "    <tr>\n",
              "      <th>0</th>\n",
              "      <td>536365</td>\n",
              "      <td>85123A</td>\n",
              "      <td>WHITE HANGING HEART T-LIGHT HOLDER</td>\n",
              "      <td>6</td>\n",
              "      <td>2010-12-01 08:26:00</td>\n",
              "      <td>2.55</td>\n",
              "      <td>17850.0</td>\n",
              "      <td>United Kingdom</td>\n",
              "    </tr>\n",
              "    <tr>\n",
              "      <th>1</th>\n",
              "      <td>536365</td>\n",
              "      <td>71053</td>\n",
              "      <td>WHITE METAL LANTERN</td>\n",
              "      <td>6</td>\n",
              "      <td>2010-12-01 08:26:00</td>\n",
              "      <td>3.39</td>\n",
              "      <td>17850.0</td>\n",
              "      <td>United Kingdom</td>\n",
              "    </tr>\n",
              "    <tr>\n",
              "      <th>2</th>\n",
              "      <td>536365</td>\n",
              "      <td>84406B</td>\n",
              "      <td>CREAM CUPID HEARTS COAT HANGER</td>\n",
              "      <td>8</td>\n",
              "      <td>2010-12-01 08:26:00</td>\n",
              "      <td>2.75</td>\n",
              "      <td>17850.0</td>\n",
              "      <td>United Kingdom</td>\n",
              "    </tr>\n",
              "    <tr>\n",
              "      <th>3</th>\n",
              "      <td>536365</td>\n",
              "      <td>84029G</td>\n",
              "      <td>KNITTED UNION FLAG HOT WATER BOTTLE</td>\n",
              "      <td>6</td>\n",
              "      <td>2010-12-01 08:26:00</td>\n",
              "      <td>3.39</td>\n",
              "      <td>17850.0</td>\n",
              "      <td>United Kingdom</td>\n",
              "    </tr>\n",
              "    <tr>\n",
              "      <th>4</th>\n",
              "      <td>536365</td>\n",
              "      <td>84029E</td>\n",
              "      <td>RED WOOLLY HOTTIE WHITE HEART.</td>\n",
              "      <td>6</td>\n",
              "      <td>2010-12-01 08:26:00</td>\n",
              "      <td>3.39</td>\n",
              "      <td>17850.0</td>\n",
              "      <td>United Kingdom</td>\n",
              "    </tr>\n",
              "    <tr>\n",
              "      <th>5</th>\n",
              "      <td>536365</td>\n",
              "      <td>22752</td>\n",
              "      <td>SET 7 BABUSHKA NESTING BOXES</td>\n",
              "      <td>2</td>\n",
              "      <td>2010-12-01 08:26:00</td>\n",
              "      <td>7.65</td>\n",
              "      <td>17850.0</td>\n",
              "      <td>United Kingdom</td>\n",
              "    </tr>\n",
              "    <tr>\n",
              "      <th>6</th>\n",
              "      <td>536365</td>\n",
              "      <td>21730</td>\n",
              "      <td>GLASS STAR FROSTED T-LIGHT HOLDER</td>\n",
              "      <td>6</td>\n",
              "      <td>2010-12-01 08:26:00</td>\n",
              "      <td>4.25</td>\n",
              "      <td>17850.0</td>\n",
              "      <td>United Kingdom</td>\n",
              "    </tr>\n",
              "    <tr>\n",
              "      <th>7</th>\n",
              "      <td>536366</td>\n",
              "      <td>22633</td>\n",
              "      <td>HAND WARMER UNION JACK</td>\n",
              "      <td>6</td>\n",
              "      <td>2010-12-01 08:28:00</td>\n",
              "      <td>1.85</td>\n",
              "      <td>17850.0</td>\n",
              "      <td>United Kingdom</td>\n",
              "    </tr>\n",
              "    <tr>\n",
              "      <th>8</th>\n",
              "      <td>536366</td>\n",
              "      <td>22632</td>\n",
              "      <td>HAND WARMER RED POLKA DOT</td>\n",
              "      <td>6</td>\n",
              "      <td>2010-12-01 08:28:00</td>\n",
              "      <td>1.85</td>\n",
              "      <td>17850.0</td>\n",
              "      <td>United Kingdom</td>\n",
              "    </tr>\n",
              "    <tr>\n",
              "      <th>9</th>\n",
              "      <td>536367</td>\n",
              "      <td>84879</td>\n",
              "      <td>ASSORTED COLOUR BIRD ORNAMENT</td>\n",
              "      <td>32</td>\n",
              "      <td>2010-12-01 08:34:00</td>\n",
              "      <td>1.69</td>\n",
              "      <td>13047.0</td>\n",
              "      <td>United Kingdom</td>\n",
              "    </tr>\n",
              "  </tbody>\n",
              "</table>\n",
              "</div>"
            ],
            "text/plain": [
              "  InvoiceNo StockCode                          Description  Quantity  \\\n",
              "0    536365    85123A   WHITE HANGING HEART T-LIGHT HOLDER         6   \n",
              "1    536365     71053                  WHITE METAL LANTERN         6   \n",
              "2    536365    84406B       CREAM CUPID HEARTS COAT HANGER         8   \n",
              "3    536365    84029G  KNITTED UNION FLAG HOT WATER BOTTLE         6   \n",
              "4    536365    84029E       RED WOOLLY HOTTIE WHITE HEART.         6   \n",
              "5    536365     22752         SET 7 BABUSHKA NESTING BOXES         2   \n",
              "6    536365     21730    GLASS STAR FROSTED T-LIGHT HOLDER         6   \n",
              "7    536366     22633               HAND WARMER UNION JACK         6   \n",
              "8    536366     22632            HAND WARMER RED POLKA DOT         6   \n",
              "9    536367     84879        ASSORTED COLOUR BIRD ORNAMENT        32   \n",
              "\n",
              "          InvoiceDate  UnitPrice  CustomerID         Country  \n",
              "0 2010-12-01 08:26:00       2.55     17850.0  United Kingdom  \n",
              "1 2010-12-01 08:26:00       3.39     17850.0  United Kingdom  \n",
              "2 2010-12-01 08:26:00       2.75     17850.0  United Kingdom  \n",
              "3 2010-12-01 08:26:00       3.39     17850.0  United Kingdom  \n",
              "4 2010-12-01 08:26:00       3.39     17850.0  United Kingdom  \n",
              "5 2010-12-01 08:26:00       7.65     17850.0  United Kingdom  \n",
              "6 2010-12-01 08:26:00       4.25     17850.0  United Kingdom  \n",
              "7 2010-12-01 08:28:00       1.85     17850.0  United Kingdom  \n",
              "8 2010-12-01 08:28:00       1.85     17850.0  United Kingdom  \n",
              "9 2010-12-01 08:34:00       1.69     13047.0  United Kingdom  "
            ]
          },
          "metadata": {
            "tags": []
          },
          "execution_count": 223
        }
      ]
    },
    {
      "cell_type": "markdown",
      "metadata": {
        "id": "svaY8zvi9_T6"
      },
      "source": [
        "## Distribution of the Quantity Column"
      ]
    },
    {
      "cell_type": "code",
      "metadata": {
        "id": "aLqDSnO99_T6",
        "outputId": "01a76f37-fe94-4ffc-b4ec-db2a815c8bc0"
      },
      "source": [
        "# Create a box plot to identify outliers\n",
        "x = df['Quantity'].plot.box(\n",
        "    showfliers=False,\n",
        "    grid=True,\n",
        "    figsize=(8, 6))\n",
        "x.set_ylabel('Order Quantity')\n",
        "x.set_title('Quantity Distribution')\n",
        "plt.show()"
      ],
      "execution_count": null,
      "outputs": [
        {
          "output_type": "display_data",
          "data": {
            "image/png": "[encoded data removed]",
            "text/plain": [
              "<Figure size 576x432 with 1 Axes>"
            ]
          },
          "metadata": {
            "tags": [],
            "needs_background": "light"
          }
        }
      ]
    },
    {
      "cell_type": "code",
      "metadata": {
        "id": "zyxR_9OG9_T7"
      },
      "source": [
        "# Filter out the negative quantity orders\n",
        "df = df[(df['Quantity']>0)]"
      ],
      "execution_count": null,
      "outputs": []
    },
    {
      "cell_type": "code",
      "metadata": {
        "id": "GJOD7B809_T7",
        "outputId": "8f286fa8-22a9-4165-e148-08f4a8fcbad9"
      },
      "source": [
        "# Check the shape again\n",
        "df.shape"
      ],
      "execution_count": null,
      "outputs": [
        {
          "output_type": "execute_result",
          "data": {
            "text/plain": [
              "(531285, 8)"
            ]
          },
          "metadata": {
            "tags": []
          },
          "execution_count": 228
        }
      ]
    },
    {
      "cell_type": "code",
      "metadata": {
        "id": "zDnWQVJ59_T8",
        "outputId": "5dfa58f3-f30c-420b-c1c2-90b25c26013b"
      },
      "source": [
        "# Create a Box plot without negative quantity\n",
        "x = df['Quantity'].plot.box(\n",
        "    showfliers=False,\n",
        "    grid=True,\n",
        "    figsize=(8, 6))\n",
        "x.set_ylabel('Order Quantity')\n",
        "x.set_title('Quantity Distribution')\n",
        "plt.show()"
      ],
      "execution_count": null,
      "outputs": [
        {
          "output_type": "display_data",
          "data": {
            "image/png": "[encoded data removed]",
            "text/plain": [
              "<Figure size 576x432 with 1 Axes>"
            ]
          },
          "metadata": {
            "tags": [],
            "needs_background": "light"
          }
        }
      ]
    },
    {
      "cell_type": "markdown",
      "metadata": {
        "id": "HSIlUILv9_T8"
      },
      "source": [
        "## Time Series Trends"
      ]
    },
    {
      "cell_type": "markdown",
      "metadata": {
        "id": "E0idd0Yb9_T8"
      },
      "source": [
        "##### Number of orders\n",
        "##### Revenue"
      ]
    },
    {
      "cell_type": "code",
      "metadata": {
        "id": "-SelqTFv9_T9"
      },
      "source": [
        "# resample function resamples the data and converts the data into the desired \n",
        "# Summarize the data on a monthly basis \n",
        "m_orders_df = df.set_index('InvoiceDate')['InvoiceNo'].resample('M').nunique()"
      ],
      "execution_count": null,
      "outputs": []
    },
    {
      "cell_type": "code",
      "metadata": {
        "id": "WycsaZuy9_T9",
        "outputId": "15174705-fe19-45c4-b832-1e486d1fb731"
      },
      "source": [
        "m_orders_df"
      ],
      "execution_count": null,
      "outputs": [
        {
          "output_type": "execute_result",
          "data": {
            "text/plain": [
              "InvoiceDate\n",
              "2010-12-31    1629\n",
              "2011-01-31    1120\n",
              "2011-02-28    1126\n",
              "2011-03-31    1531\n",
              "2011-04-30    1318\n",
              "2011-05-31    1731\n",
              "2011-06-30    1576\n",
              "2011-07-31    1540\n",
              "2011-08-31    1409\n",
              "2011-09-30    1896\n",
              "2011-10-31    2129\n",
              "2011-11-30    2884\n",
              "2011-12-31     839\n",
              "Freq: M, Name: InvoiceNo, dtype: int64"
            ]
          },
          "metadata": {
            "tags": []
          },
          "execution_count": 231
        }
      ]
    },
    {
      "cell_type": "code",
      "metadata": {
        "id": "pBnl5pIJ9_T9",
        "outputId": "c52bcc8e-878e-4be7-ad79-b7d8a5b02ed8"
      },
      "source": [
        "# Create a Line Chart for the data \n",
        "ax = pd.DataFrame(m_orders_df.values).plot(\n",
        "    grid=True,\n",
        "    figsize=(10,7),\n",
        "    legend=False\n",
        ")\n",
        "\n",
        "ax.set_xlabel('date')\n",
        "ax.set_ylabel('number of orders/invoices')\n",
        "ax.set_title('Total Number of Orders Over Time')\n",
        "\n",
        "# use x.strftime('%m.%Y'), where x is the Pythondate object, %m is the placeholder for\n",
        "# the month value, and %Y is the placeholder for the year value. The strftime function\n",
        "# of the Pythondate object formats the date into the given format.\n",
        "\n",
        "plt.xticks(\n",
        "    range(len(m_orders_df.index)), \n",
        "    [x.strftime('%m.%Y') for x in m_orders_df.index], \n",
        "    rotation=45\n",
        ")\n",
        "\n",
        "plt.show()"
      ],
      "execution_count": null,
      "outputs": [
        {
          "output_type": "display_data",
          "data": {
            "image/png": "[encoded data removed]",
            "text/plain": [
              "<Figure size 720x504 with 1 Axes>"
            ]
          },
          "metadata": {
            "tags": [],
            "needs_background": "light"
          }
        }
      ]
    },
    {
      "cell_type": "code",
      "metadata": {
        "id": "vPAFFfPD9_T-"
      },
      "source": [
        "# Get all invoice dates from December 1, 2011 \n",
        "invoice_dates = df.loc[\n",
        "    df['InvoiceDate'] >= '2011-12-01',\n",
        "    'InvoiceDate']"
      ],
      "execution_count": null,
      "outputs": []
    },
    {
      "cell_type": "code",
      "metadata": {
        "id": "e3KxGy4f9_T-",
        "outputId": "60062b87-cbcd-4450-c0e5-d0087d546e74"
      },
      "source": [
        "# Print Min and Max dates in that series\n",
        "print('Min date: %s\\nMax date: %s' % (invoice_dates.min(), invoice_dates.max()))"
      ],
      "execution_count": null,
      "outputs": [
        {
          "output_type": "stream",
          "text": [
            "Min date: 2011-12-01 08:33:00\n",
            "Max date: 2011-12-09 12:50:00\n"
          ],
          "name": "stdout"
        }
      ]
    },
    {
      "cell_type": "markdown",
      "metadata": {
        "id": "JEHtckXl9_T-"
      },
      "source": [
        "## Q. What do you observe?"
      ]
    },
    {
      "cell_type": "markdown",
      "metadata": {
        "id": "DiS8p2NN9_T_"
      },
      "source": [
        "We can see from the above chart that from December 2010 to September 2011 number of orders fluctuated and in November 2011 the number of orders reached all time high to 2825. However, in December 2011 it suddenly fell to 825."
      ]
    },
    {
      "cell_type": "code",
      "metadata": {
        "id": "TZJq9R-h9_T_"
      },
      "source": [
        "# Remove the December 2011 data\n",
        "df =df.loc[df['InvoiceDate']<'2011-12-01']\n",
        "\n",
        "# Recalculate the monthly distribution\n",
        "mo_orders_df = df.set_index('InvoiceDate')['InvoiceNo'].resample('M').nunique()\n"
      ],
      "execution_count": null,
      "outputs": []
    },
    {
      "cell_type": "code",
      "metadata": {
        "id": "ONw4TIHO9_T_",
        "outputId": "671dc587-7025-4abb-bd64-4cbc802b0ea5"
      },
      "source": [
        "# Create the line chart again\n",
        "ax = pd.DataFrame(mo_orders_df.values).plot(\n",
        "    grid=True,\n",
        "    figsize=(10,7),\n",
        "    legend=False\n",
        ")\n",
        "\n",
        "ax.set_xlabel('date')\n",
        "ax.set_ylabel('number of orders/invoices')\n",
        "ax.set_title('Total Number of Orders Over Time')\n",
        "\n",
        "# use x.strftime('%m.%Y'), where x is the Pythondate object, %m is the placeholder for\n",
        "# the month value, and %Y is the placeholder for the year value. The strftime function\n",
        "# of the Pythondate object formats the date into the given format.\n",
        "\n",
        "plt.xticks(\n",
        "    range(len(mo_orders_df.index)), \n",
        "    [x.strftime('%m.%Y') for x in mo_orders_df.index], \n",
        "    rotation=45\n",
        ")\n",
        "\n",
        "plt.show()"
      ],
      "execution_count": null,
      "outputs": [
        {
          "output_type": "display_data",
          "data": {
            "image/png": "[encoded data removed]",
            "text/plain": [
              "<Figure size 720x504 with 1 Axes>"
            ]
          },
          "metadata": {
            "tags": [],
            "needs_background": "light"
          }
        }
      ]
    },
    {
      "cell_type": "code",
      "metadata": {
        "id": "NQOreeg_9_UA"
      },
      "source": [
        "# Calculate sales\n",
        "df['Sales'] = df['Quantity'] * df['UnitPrice']\n",
        "\n",
        "# Look at monthly revenue data by using sum as an aggregate function\n",
        "m_revenue_df = df.set_index('InvoiceDate')['Sales'].resample('M').sum() "
      ],
      "execution_count": null,
      "outputs": []
    },
    {
      "cell_type": "code",
      "metadata": {
        "id": "CB6JWNQL9_UA",
        "outputId": "2efed595-7d80-4f13-c689-4160d793c40c"
      },
      "source": [
        "m_revenue_df"
      ],
      "execution_count": null,
      "outputs": [
        {
          "output_type": "execute_result",
          "data": {
            "text/plain": [
              "InvoiceDate\n",
              "2010-12-31     823746.140\n",
              "2011-01-31     691364.560\n",
              "2011-02-28     523631.890\n",
              "2011-03-31     717639.360\n",
              "2011-04-30     537808.621\n",
              "2011-05-31     770536.020\n",
              "2011-06-30     761739.900\n",
              "2011-07-31     719221.191\n",
              "2011-08-31     737014.260\n",
              "2011-09-30    1058590.172\n",
              "2011-10-31    1154979.300\n",
              "2011-11-30    1509496.330\n",
              "Freq: M, Name: Sales, dtype: float64"
            ]
          },
          "metadata": {
            "tags": []
          },
          "execution_count": 243
        }
      ]
    },
    {
      "cell_type": "code",
      "metadata": {
        "id": "3l5FROx99_UA",
        "outputId": "413db7ae-ae37-4d51-f8bd-aa387ee58d83"
      },
      "source": [
        "# Create a Line Plot for revenue\n",
        "# Create a Line Plot for revenue\n",
        "ax = pd.DataFrame(m_revenue_df.values).plot(\n",
        "    grid=True,\n",
        "    figsize=(10,7),\n",
        "    legend=False\n",
        ")\n",
        "\n",
        "ax.set_xlabel('date')\n",
        "ax.set_ylabel('sales')\n",
        "ax.set_title('Total Revenue Over Time')\n",
        "\n",
        "# use x.strftime('%m.%Y'), where x is the Pythondate object, %m is the placeholder for\n",
        "# the month value, and %Y is the placeholder for the year value. The strftime function\n",
        "# of the Pythondate object formats the date into the given format.\n",
        "\n",
        "plt.xticks(\n",
        "    range(len(m_revenue_df.index)), \n",
        "    [x.strftime('%m.%Y') for x in m_revenue_df.index], \n",
        "    rotation=45\n",
        ")\n",
        "\n",
        "plt.show()\n"
      ],
      "execution_count": null,
      "outputs": [
        {
          "output_type": "display_data",
          "data": {
            "image/png": "[encoded data removed]",
            "text/plain": [
              "<Figure size 720x504 with 1 Axes>"
            ]
          },
          "metadata": {
            "tags": [],
            "needs_background": "light"
          }
        }
      ]
    },
    {
      "cell_type": "markdown",
      "metadata": {
        "id": "iSoBsf7n9_UB"
      },
      "source": [
        "## Q Do you see a similar pattern with the order by month line chart? Comment"
      ]
    },
    {
      "cell_type": "markdown",
      "metadata": {
        "id": "F2nDzaem9_UB"
      },
      "source": [
        "Yes we can see tha same fluctuations but not exact pattern with the order by month chart.As number of order increased over time, the sales also increased. "
      ]
    },
    {
      "cell_type": "markdown",
      "metadata": {
        "id": "-xbxPwD59_UB"
      },
      "source": [
        "## Repeat Customers"
      ]
    },
    {
      "cell_type": "code",
      "metadata": {
        "id": "L8V4NsKW9_UB",
        "outputId": "af11c93b-c947-4593-92e9-76af79c53e63"
      },
      "source": [
        "# Run the head function on  the original dataframe\n",
        "df.head()"
      ],
      "execution_count": null,
      "outputs": [
        {
          "output_type": "execute_result",
          "data": {
            "text/html": [
              "<div>\n",
              "<style scoped>\n",
              "    .dataframe tbody tr th:only-of-type {\n",
              "        vertical-align: middle;\n",
              "    }\n",
              "\n",
              "    .dataframe tbody tr th {\n",
              "        vertical-align: top;\n",
              "    }\n",
              "\n",
              "    .dataframe thead th {\n",
              "        text-align: right;\n",
              "    }\n",
              "</style>\n",
              "<table border=\"1\" class=\"dataframe\">\n",
              "  <thead>\n",
              "    <tr style=\"text-align: right;\">\n",
              "      <th></th>\n",
              "      <th>InvoiceNo</th>\n",
              "      <th>StockCode</th>\n",
              "      <th>Description</th>\n",
              "      <th>Quantity</th>\n",
              "      <th>InvoiceDate</th>\n",
              "      <th>UnitPrice</th>\n",
              "      <th>CustomerID</th>\n",
              "      <th>Country</th>\n",
              "      <th>Sales</th>\n",
              "    </tr>\n",
              "  </thead>\n",
              "  <tbody>\n",
              "    <tr>\n",
              "      <th>0</th>\n",
              "      <td>536365</td>\n",
              "      <td>85123A</td>\n",
              "      <td>WHITE HANGING HEART T-LIGHT HOLDER</td>\n",
              "      <td>6</td>\n",
              "      <td>2010-12-01 08:26:00</td>\n",
              "      <td>2.55</td>\n",
              "      <td>17850.0</td>\n",
              "      <td>United Kingdom</td>\n",
              "      <td>15.30</td>\n",
              "    </tr>\n",
              "    <tr>\n",
              "      <th>1</th>\n",
              "      <td>536365</td>\n",
              "      <td>71053</td>\n",
              "      <td>WHITE METAL LANTERN</td>\n",
              "      <td>6</td>\n",
              "      <td>2010-12-01 08:26:00</td>\n",
              "      <td>3.39</td>\n",
              "      <td>17850.0</td>\n",
              "      <td>United Kingdom</td>\n",
              "      <td>20.34</td>\n",
              "    </tr>\n",
              "    <tr>\n",
              "      <th>2</th>\n",
              "      <td>536365</td>\n",
              "      <td>84406B</td>\n",
              "      <td>CREAM CUPID HEARTS COAT HANGER</td>\n",
              "      <td>8</td>\n",
              "      <td>2010-12-01 08:26:00</td>\n",
              "      <td>2.75</td>\n",
              "      <td>17850.0</td>\n",
              "      <td>United Kingdom</td>\n",
              "      <td>22.00</td>\n",
              "    </tr>\n",
              "    <tr>\n",
              "      <th>3</th>\n",
              "      <td>536365</td>\n",
              "      <td>84029G</td>\n",
              "      <td>KNITTED UNION FLAG HOT WATER BOTTLE</td>\n",
              "      <td>6</td>\n",
              "      <td>2010-12-01 08:26:00</td>\n",
              "      <td>3.39</td>\n",
              "      <td>17850.0</td>\n",
              "      <td>United Kingdom</td>\n",
              "      <td>20.34</td>\n",
              "    </tr>\n",
              "    <tr>\n",
              "      <th>4</th>\n",
              "      <td>536365</td>\n",
              "      <td>84029E</td>\n",
              "      <td>RED WOOLLY HOTTIE WHITE HEART.</td>\n",
              "      <td>6</td>\n",
              "      <td>2010-12-01 08:26:00</td>\n",
              "      <td>3.39</td>\n",
              "      <td>17850.0</td>\n",
              "      <td>United Kingdom</td>\n",
              "      <td>20.34</td>\n",
              "    </tr>\n",
              "  </tbody>\n",
              "</table>\n",
              "</div>"
            ],
            "text/plain": [
              "  InvoiceNo StockCode                          Description  Quantity  \\\n",
              "0    536365    85123A   WHITE HANGING HEART T-LIGHT HOLDER         6   \n",
              "1    536365     71053                  WHITE METAL LANTERN         6   \n",
              "2    536365    84406B       CREAM CUPID HEARTS COAT HANGER         8   \n",
              "3    536365    84029G  KNITTED UNION FLAG HOT WATER BOTTLE         6   \n",
              "4    536365    84029E       RED WOOLLY HOTTIE WHITE HEART.         6   \n",
              "\n",
              "          InvoiceDate  UnitPrice  CustomerID         Country  Sales  \n",
              "0 2010-12-01 08:26:00       2.55     17850.0  United Kingdom  15.30  \n",
              "1 2010-12-01 08:26:00       3.39     17850.0  United Kingdom  20.34  \n",
              "2 2010-12-01 08:26:00       2.75     17850.0  United Kingdom  22.00  \n",
              "3 2010-12-01 08:26:00       3.39     17850.0  United Kingdom  20.34  \n",
              "4 2010-12-01 08:26:00       3.39     17850.0  United Kingdom  20.34  "
            ]
          },
          "metadata": {
            "tags": []
          },
          "execution_count": 245
        }
      ]
    },
    {
      "cell_type": "markdown",
      "metadata": {
        "id": "EJVRWbd_9_UC"
      },
      "source": [
        "## Q. What do you notice with the invoice number?"
      ]
    },
    {
      "cell_type": "markdown",
      "metadata": {
        "id": "Bcu-9MZ_9_UC"
      },
      "source": [
        "All the invoice numbers are same in this dataframe."
      ]
    },
    {
      "cell_type": "markdown",
      "metadata": {
        "id": "w5MHFjEk9_UC"
      },
      "source": [
        "## Calculate the repeat customers"
      ]
    },
    {
      "cell_type": "code",
      "metadata": {
        "id": "evywot-R9_UC"
      },
      "source": [
        "# Aggregate the raw data for each Invoice No.\n",
        "invoice_df = df.groupby(\n",
        "    by=['InvoiceNo', 'InvoiceDate']\n",
        ").agg({\n",
        "    'Sales': sum,\n",
        "    'CustomerID': max,\n",
        "    'Country': max,\n",
        "}).reset_index()"
      ],
      "execution_count": null,
      "outputs": []
    },
    {
      "cell_type": "code",
      "metadata": {
        "id": "uBBSt84n9_UC",
        "outputId": "d847f031-9b04-4437-cbc1-2b3b87a61a92"
      },
      "source": [
        "invoice_df.head()"
      ],
      "execution_count": null,
      "outputs": [
        {
          "output_type": "execute_result",
          "data": {
            "text/html": [
              "<div>\n",
              "<style scoped>\n",
              "    .dataframe tbody tr th:only-of-type {\n",
              "        vertical-align: middle;\n",
              "    }\n",
              "\n",
              "    .dataframe tbody tr th {\n",
              "        vertical-align: top;\n",
              "    }\n",
              "\n",
              "    .dataframe thead th {\n",
              "        text-align: right;\n",
              "    }\n",
              "</style>\n",
              "<table border=\"1\" class=\"dataframe\">\n",
              "  <thead>\n",
              "    <tr style=\"text-align: right;\">\n",
              "      <th></th>\n",
              "      <th>InvoiceNo</th>\n",
              "      <th>InvoiceDate</th>\n",
              "      <th>Sales</th>\n",
              "      <th>CustomerID</th>\n",
              "      <th>Country</th>\n",
              "    </tr>\n",
              "  </thead>\n",
              "  <tbody>\n",
              "    <tr>\n",
              "      <th>0</th>\n",
              "      <td>536365</td>\n",
              "      <td>2010-12-01 08:26:00</td>\n",
              "      <td>139.12</td>\n",
              "      <td>17850.0</td>\n",
              "      <td>United Kingdom</td>\n",
              "    </tr>\n",
              "    <tr>\n",
              "      <th>1</th>\n",
              "      <td>536366</td>\n",
              "      <td>2010-12-01 08:28:00</td>\n",
              "      <td>22.20</td>\n",
              "      <td>17850.0</td>\n",
              "      <td>United Kingdom</td>\n",
              "    </tr>\n",
              "    <tr>\n",
              "      <th>2</th>\n",
              "      <td>536367</td>\n",
              "      <td>2010-12-01 08:34:00</td>\n",
              "      <td>278.73</td>\n",
              "      <td>13047.0</td>\n",
              "      <td>United Kingdom</td>\n",
              "    </tr>\n",
              "    <tr>\n",
              "      <th>3</th>\n",
              "      <td>536368</td>\n",
              "      <td>2010-12-01 08:34:00</td>\n",
              "      <td>70.05</td>\n",
              "      <td>13047.0</td>\n",
              "      <td>United Kingdom</td>\n",
              "    </tr>\n",
              "    <tr>\n",
              "      <th>4</th>\n",
              "      <td>536369</td>\n",
              "      <td>2010-12-01 08:35:00</td>\n",
              "      <td>17.85</td>\n",
              "      <td>13047.0</td>\n",
              "      <td>United Kingdom</td>\n",
              "    </tr>\n",
              "  </tbody>\n",
              "</table>\n",
              "</div>"
            ],
            "text/plain": [
              "  InvoiceNo         InvoiceDate   Sales  CustomerID         Country\n",
              "0    536365 2010-12-01 08:26:00  139.12     17850.0  United Kingdom\n",
              "1    536366 2010-12-01 08:28:00   22.20     17850.0  United Kingdom\n",
              "2    536367 2010-12-01 08:34:00  278.73     13047.0  United Kingdom\n",
              "3    536368 2010-12-01 08:34:00   70.05     13047.0  United Kingdom\n",
              "4    536369 2010-12-01 08:35:00   17.85     13047.0  United Kingdom"
            ]
          },
          "metadata": {
            "tags": []
          },
          "execution_count": 247
        }
      ]
    },
    {
      "cell_type": "code",
      "metadata": {
        "id": "5nmpOLhE9_UD"
      },
      "source": [
        "# Aggregate by month\n",
        "#Group by Month and CustomerID. \n",
        "# Filter selects customers who have more than one record in the group\n",
        "# Basically customers with more than one order in a month\n",
        "\n",
        "m_repeat_customers_df = invoice_df.set_index('InvoiceDate').groupby([\n",
        "    pd.Grouper(freq='M'), 'CustomerID'\n",
        "]).filter(lambda x: len(x) > 1).resample('M').nunique()['CustomerID']"
      ],
      "execution_count": null,
      "outputs": []
    },
    {
      "cell_type": "code",
      "metadata": {
        "id": "i8h3MWP69_UD",
        "outputId": "15083ede-7ee1-4028-d722-199eb7e1a817"
      },
      "source": [
        "m_repeat_customers_df"
      ],
      "execution_count": null,
      "outputs": [
        {
          "output_type": "execute_result",
          "data": {
            "text/plain": [
              "InvoiceDate\n",
              "2010-12-31    263\n",
              "2011-01-31    153\n",
              "2011-02-28    153\n",
              "2011-03-31    203\n",
              "2011-04-30    170\n",
              "2011-05-31    281\n",
              "2011-06-30    220\n",
              "2011-07-31    227\n",
              "2011-08-31    198\n",
              "2011-09-30    272\n",
              "2011-10-31    324\n",
              "2011-11-30    541\n",
              "Freq: M, Name: CustomerID, dtype: int64"
            ]
          },
          "metadata": {
            "tags": []
          },
          "execution_count": 249
        }
      ]
    },
    {
      "cell_type": "code",
      "metadata": {
        "id": "a-X0i5sa9_UD"
      },
      "source": [
        "# Calculate the unique customers\n",
        "m_unique_customers_df = df.set_index('InvoiceDate')['CustomerID'].resample('M').nunique()"
      ],
      "execution_count": null,
      "outputs": []
    },
    {
      "cell_type": "code",
      "metadata": {
        "id": "m-lsg0Ks9_UD",
        "outputId": "2dce5e57-c450-4e2f-c4e4-7b6abf67a755"
      },
      "source": [
        "m_unique_customers_df"
      ],
      "execution_count": null,
      "outputs": [
        {
          "output_type": "execute_result",
          "data": {
            "text/plain": [
              "InvoiceDate\n",
              "2010-12-31     885\n",
              "2011-01-31     741\n",
              "2011-02-28     758\n",
              "2011-03-31     974\n",
              "2011-04-30     856\n",
              "2011-05-31    1056\n",
              "2011-06-30     991\n",
              "2011-07-31     949\n",
              "2011-08-31     935\n",
              "2011-09-30    1266\n",
              "2011-10-31    1364\n",
              "2011-11-30    1665\n",
              "Freq: M, Name: CustomerID, dtype: int64"
            ]
          },
          "metadata": {
            "tags": []
          },
          "execution_count": 251
        }
      ]
    },
    {
      "cell_type": "code",
      "metadata": {
        "id": "3XD8ArnC9_UE",
        "outputId": "08d5f603-9cc2-44a3-e303-d6e2371696c8"
      },
      "source": [
        "# Compare the repeat and unique customers by month and calculate percentage by month\n",
        "m_repeat_percentage = m_repeat_customers_df/m_unique_customers_df*100.0\n",
        "m_repeat_percentage"
      ],
      "execution_count": null,
      "outputs": [
        {
          "output_type": "execute_result",
          "data": {
            "text/plain": [
              "InvoiceDate\n",
              "2010-12-31    29.717514\n",
              "2011-01-31    20.647773\n",
              "2011-02-28    20.184697\n",
              "2011-03-31    20.841889\n",
              "2011-04-30    19.859813\n",
              "2011-05-31    26.609848\n",
              "2011-06-30    22.199798\n",
              "2011-07-31    23.919916\n",
              "2011-08-31    21.176471\n",
              "2011-09-30    21.484992\n",
              "2011-10-31    23.753666\n",
              "2011-11-30    32.492492\n",
              "Freq: M, Name: CustomerID, dtype: float64"
            ]
          },
          "metadata": {
            "tags": []
          },
          "execution_count": 252
        }
      ]
    },
    {
      "cell_type": "code",
      "metadata": {
        "id": "hEpipSbh9_UE",
        "outputId": "757768bf-d711-4032-c22d-215a40bcb1ef"
      },
      "source": [
        "# Visualize thsese two in a dual axis chart\n",
        "\n",
        "plot1 = pd.DataFrame(m_repeat_customers_df.values).plot(\n",
        "    figsize=(10,7))\n",
        "\n",
        "pd.DataFrame(m_unique_customers_df.values).plot(\n",
        "    ax=plot1,\n",
        "    grid=True\n",
        ")\n",
        "\n",
        "plot2 = pd.DataFrame(m_repeat_percentage.values).plot.bar(\n",
        "    ax=plot1,\n",
        "    grid=True,\n",
        "    secondary_y=True,# for dual axis with different scale\n",
        "    color='green',\n",
        "    alpha=0.2\n",
        ")\n",
        "\n",
        "plot1.set_xlabel('date')\n",
        "plot1.set_ylabel('number of customers')\n",
        "plot1.set_title('Number of All vs. Repeat Customers Over Time')\n",
        "\n",
        "plot2.set_ylabel('percentage (%)')\n",
        "\n",
        "plot1.legend(['Repeat Customers', 'All Customers'])\n",
        "plot2.legend(['Percentage of Repeat'], loc='upper right')\n",
        "\n",
        "plot1.set_ylim([0, m_unique_customers_df.values.max()+100])\n",
        "plot2.set_ylim([0, 100])\n",
        "\n",
        "plt.xticks(\n",
        "    range(len(m_repeat_customers_df.index)), \n",
        "    [x.strftime('%m.%Y') for x in m_repeat_customers_df.index], \n",
        "    rotation=45\n",
        ")\n",
        "plt.show()"
      ],
      "execution_count": null,
      "outputs": [
        {
          "output_type": "display_data",
          "data": {
            "image/png": "[encoded data removed]",
            "text/plain": [
              "<Figure size 720x504 with 2 Axes>"
            ]
          },
          "metadata": {
            "tags": [],
            "needs_background": "light"
          }
        }
      ]
    },
    {
      "cell_type": "markdown",
      "metadata": {
        "id": "tW_Yt_SC9_UF"
      },
      "source": [
        "## Q. Comment on the distribution"
      ]
    },
    {
      "cell_type": "markdown",
      "metadata": {
        "id": "VGTypYFN9_UF"
      },
      "source": [
        "The above distribution illustrates that the number of all customers increased over time and almost doubled in the November 2011. Moreover, in December 2010 and November 2011 the precentage of repeat customers were almost same around 30%. "
      ]
    },
    {
      "cell_type": "code",
      "metadata": {
        "id": "m9cx3_UR9_UG",
        "outputId": "759ea9b6-2c22-450c-d114-1cb5cc41a401"
      },
      "source": [
        "# Calculate Monthly revenue of repeat customers\n",
        "m_rev_repeat_customers_df = invoice_df.set_index('InvoiceDate').groupby([pd.Grouper(freq='M'), 'CustomerID']).filter(lambda x: len(x) > 1).resample('M').sum()['Sales']\n",
        "\n",
        "\n",
        "# Calculate and show the % of revenue for repeat and all customers by month\n",
        "m_revenue_per_repeat_customers_df = m_rev_repeat_customers_df/m_revenue_df * 100.0\n",
        "m_revenue_per_repeat_customers_df"
      ],
      "execution_count": null,
      "outputs": [
        {
          "output_type": "execute_result",
          "data": {
            "text/plain": [
              "InvoiceDate\n",
              "2010-12-31    43.602098\n",
              "2011-01-31    32.128346\n",
              "2011-02-28    36.519810\n",
              "2011-03-31    37.259729\n",
              "2011-04-30    36.346420\n",
              "2011-05-31    49.082331\n",
              "2011-06-30    49.401017\n",
              "2011-07-31    44.141497\n",
              "2011-08-31    43.029595\n",
              "2011-09-30    47.295296\n",
              "2011-10-31    49.698455\n",
              "2011-11-30    47.285696\n",
              "Freq: M, Name: Sales, dtype: float64"
            ]
          },
          "metadata": {
            "tags": []
          },
          "execution_count": 256
        }
      ]
    },
    {
      "cell_type": "code",
      "metadata": {
        "id": "-CXFy3dM9_UG",
        "outputId": "6db2180a-4b67-498b-9b94-07adc2ae4f58"
      },
      "source": [
        "# Plot the  chart for Revenue and % (Dual axis chart)\n",
        "\n",
        "plot1 = pd.DataFrame(m_revenue_df.values).plot(\n",
        "    figsize=(10,7))\n",
        "\n",
        "pd.DataFrame(m_rev_repeat_customers_df.values).plot(\n",
        "    ax=plot1,\n",
        "    grid=True\n",
        ")\n",
        "\n",
        "plot2 = pd.DataFrame(m_revenue_per_repeat_customers_df.values).plot.bar(\n",
        "    ax=plot1,\n",
        "    grid=True,\n",
        "    secondary_y=True,# for dual axis with different scale\n",
        "    color='green',\n",
        "    alpha=0.2\n",
        ")\n",
        "\n",
        "plot1.set_xlabel('date')\n",
        "plot1.set_ylabel('sales')\n",
        "plot1.set_title('Total Revenue vs. Revenue from Repeat Customers')\n",
        "\n",
        "plot2.set_ylabel('percentage (%)')\n",
        "plot1.legend(['Total Revenue', 'Repeat Customer Revenue'])\n",
        "plot2.legend(['Repeat Revenue Percentage'], loc='upper right')\n",
        "\n",
        "plot1.set_ylim([0, m_revenue_df.values.max()+70])\n",
        "plot2.set_ylim([0, 70])\n",
        "\n",
        "plt.xticks(\n",
        "    range(len(m_revenue_df.index)), \n",
        "    [x.strftime('%m.%Y') for x in m_revenue_df.index], \n",
        "    rotation=45\n",
        ")\n",
        "plt.show()\n"
      ],
      "execution_count": null,
      "outputs": [
        {
          "output_type": "display_data",
          "data": {
            "image/png": "[encoded data removed]",
            "text/plain": [
              "<Figure size 720x504 with 2 Axes>"
            ]
          },
          "metadata": {
            "tags": [],
            "needs_background": "light"
          }
        }
      ]
    },
    {
      "cell_type": "markdown",
      "metadata": {
        "id": "DukwSblw9_UG"
      },
      "source": [
        "## Q. Comment on the distribution"
      ]
    },
    {
      "cell_type": "markdown",
      "metadata": {
        "id": "yOtbdTBT9_UH"
      },
      "source": [
        "We can observe that revenue from repeat customers generated 50% of revenue in total revenue in month of May and June 2011. Therfore, we can say that repeat customers has a huge part in total revenue growth. "
      ]
    },
    {
      "cell_type": "markdown",
      "metadata": {
        "id": "lFHPCSNK9_UH"
      },
      "source": [
        "## Trending Items Over Time (How customers enagage with individual products)"
      ]
    },
    {
      "cell_type": "markdown",
      "metadata": {
        "id": "9StDe9wJ9_UH"
      },
      "source": [
        "## By Quantity"
      ]
    },
    {
      "cell_type": "code",
      "metadata": {
        "id": "Haggb0AQ9_UH"
      },
      "source": [
        "# Group the datafarme by month with stock code which is really the product ID\n",
        "m_item_df = pd.DataFrame(df.set_index('InvoiceDate').groupby([\n",
        "        pd.Grouper(freq='M'), 'StockCode'\n",
        "    ])['Quantity'].sum()\n",
        "                        )"
      ],
      "execution_count": null,
      "outputs": []
    },
    {
      "cell_type": "code",
      "metadata": {
        "id": "u-MKAK9i9_UI"
      },
      "source": [
        "# Lets find out what items were sold the most by quantity on November 30, 2011\n",
        "# Rank items by the last month sales by sorting by quantity\n",
        "last_m_sorted_df = m_item_df.loc['2011-11-30'].sort_values(\n",
        "    by='Quantity', ascending=False\n",
        ").reset_index()"
      ],
      "execution_count": null,
      "outputs": []
    },
    {
      "cell_type": "markdown",
      "metadata": {
        "id": "VUDw1rIY9_UI"
      },
      "source": [
        "## By Sales"
      ]
    },
    {
      "cell_type": "code",
      "metadata": {
        "id": "0Asd008u9_UI"
      },
      "source": [
        "# Group the datafarme by month with stock code which is really the product ID and \n",
        "# calculate the sales\n",
        "m_sale_df = pd.DataFrame(df.set_index('InvoiceDate').groupby([\n",
        "        pd.Grouper(freq='M'), 'StockCode'\n",
        "    ])['Sales'].sum()\n",
        "                        )\n",
        "                       \n",
        "\n",
        "# Lets find out what items were sold the most by sales on November 30, 2011\n",
        "\n",
        "last_m__sale_sorted_df = m_sale_df.loc['2011-11-30'].sort_values(\n",
        "    by='Sales', ascending=False\n",
        ").reset_index()\n"
      ],
      "execution_count": null,
      "outputs": []
    },
    {
      "cell_type": "code",
      "metadata": {
        "id": "4cCi2zOD9_UI",
        "outputId": "c486aa26-7ec8-4b85-99f4-147eb1468984"
      },
      "source": [
        "# Print both the dataframes\n",
        "print(last_m_sorted_df.head())\n",
        "print(last_m__sale_sorted_df.head())"
      ],
      "execution_count": null,
      "outputs": [
        {
          "output_type": "stream",
          "text": [
            "  InvoiceDate StockCode  Quantity\n",
            "0  2011-11-30     23084     14954\n",
            "1  2011-11-30     84826     12551\n",
            "2  2011-11-30     22197     12460\n",
            "3  2011-11-30     22086      7908\n",
            "4  2011-11-30    85099B      5909\n",
            "  InvoiceDate StockCode     Sales\n",
            "0  2011-11-30       DOT  36905.40\n",
            "1  2011-11-30     23084  34556.72\n",
            "2  2011-11-30     22086  28985.04\n",
            "3  2011-11-30     22197  14195.60\n",
            "4  2011-11-30    85123A  14136.70\n"
          ],
          "name": "stdout"
        }
      ]
    },
    {
      "cell_type": "code",
      "metadata": {
        "id": "z2nFXLzY9_UJ",
        "outputId": "07f6a663-57d3-4a03-ff46-2a1bbb43d618"
      },
      "source": [
        "# Use the top 5 items by quantity and find the monthly sales for those items \n",
        "m_item_df = pd.DataFrame(\n",
        "    df.loc[\n",
        "        df['StockCode'].isin([23084, 84826, 22197, 22086, '85099B'])\n",
        "    ].set_index('InvoiceDate').groupby([\n",
        "        pd.Grouper(freq='M'), 'StockCode'\n",
        "    ])['Sales'].sum()\n",
        ")\n",
        "m_item_df"
      ],
      "execution_count": null,
      "outputs": [
        {
          "output_type": "execute_result",
          "data": {
            "text/html": [
              "<div>\n",
              "<style scoped>\n",
              "    .dataframe tbody tr th:only-of-type {\n",
              "        vertical-align: middle;\n",
              "    }\n",
              "\n",
              "    .dataframe tbody tr th {\n",
              "        vertical-align: top;\n",
              "    }\n",
              "\n",
              "    .dataframe thead th {\n",
              "        text-align: right;\n",
              "    }\n",
              "</style>\n",
              "<table border=\"1\" class=\"dataframe\">\n",
              "  <thead>\n",
              "    <tr style=\"text-align: right;\">\n",
              "      <th></th>\n",
              "      <th></th>\n",
              "      <th>Sales</th>\n",
              "    </tr>\n",
              "    <tr>\n",
              "      <th>InvoiceDate</th>\n",
              "      <th>StockCode</th>\n",
              "      <th></th>\n",
              "    </tr>\n",
              "  </thead>\n",
              "  <tbody>\n",
              "    <tr>\n",
              "      <th rowspan=\"4\" valign=\"top\">2010-12-31</th>\n",
              "      <th>22086</th>\n",
              "      <td>9225.80</td>\n",
              "    </tr>\n",
              "    <tr>\n",
              "      <th>22197</th>\n",
              "      <td>2630.79</td>\n",
              "    </tr>\n",
              "    <tr>\n",
              "      <th>84826</th>\n",
              "      <td>119.10</td>\n",
              "    </tr>\n",
              "    <tr>\n",
              "      <th>85099B</th>\n",
              "      <td>4019.15</td>\n",
              "    </tr>\n",
              "    <tr>\n",
              "      <th rowspan=\"4\" valign=\"top\">2011-01-31</th>\n",
              "      <th>22086</th>\n",
              "      <td>143.32</td>\n",
              "    </tr>\n",
              "    <tr>\n",
              "      <th>22197</th>\n",
              "      <td>1495.48</td>\n",
              "    </tr>\n",
              "    <tr>\n",
              "      <th>84826</th>\n",
              "      <td>100.80</td>\n",
              "    </tr>\n",
              "    <tr>\n",
              "      <th>85099B</th>\n",
              "      <td>5047.65</td>\n",
              "    </tr>\n",
              "    <tr>\n",
              "      <th rowspan=\"4\" valign=\"top\">2011-02-28</th>\n",
              "      <th>22086</th>\n",
              "      <td>24.95</td>\n",
              "    </tr>\n",
              "    <tr>\n",
              "      <th>22197</th>\n",
              "      <td>2127.00</td>\n",
              "    </tr>\n",
              "    <tr>\n",
              "      <th>84826</th>\n",
              "      <td>17.70</td>\n",
              "    </tr>\n",
              "    <tr>\n",
              "      <th>85099B</th>\n",
              "      <td>5617.24</td>\n",
              "    </tr>\n",
              "    <tr>\n",
              "      <th rowspan=\"4\" valign=\"top\">2011-03-31</th>\n",
              "      <th>22086</th>\n",
              "      <td>232.01</td>\n",
              "    </tr>\n",
              "    <tr>\n",
              "      <th>22197</th>\n",
              "      <td>3032.81</td>\n",
              "    </tr>\n",
              "    <tr>\n",
              "      <th>84826</th>\n",
              "      <td>51.00</td>\n",
              "    </tr>\n",
              "    <tr>\n",
              "      <th>85099B</th>\n",
              "      <td>10118.38</td>\n",
              "    </tr>\n",
              "    <tr>\n",
              "      <th rowspan=\"4\" valign=\"top\">2011-04-30</th>\n",
              "      <th>22086</th>\n",
              "      <td>44.03</td>\n",
              "    </tr>\n",
              "    <tr>\n",
              "      <th>22197</th>\n",
              "      <td>1495.57</td>\n",
              "    </tr>\n",
              "    <tr>\n",
              "      <th>84826</th>\n",
              "      <td>0.85</td>\n",
              "    </tr>\n",
              "    <tr>\n",
              "      <th>85099B</th>\n",
              "      <td>4878.08</td>\n",
              "    </tr>\n",
              "    <tr>\n",
              "      <th rowspan=\"4\" valign=\"top\">2011-05-31</th>\n",
              "      <th>22086</th>\n",
              "      <td>65.19</td>\n",
              "    </tr>\n",
              "    <tr>\n",
              "      <th>22197</th>\n",
              "      <td>5151.63</td>\n",
              "    </tr>\n",
              "    <tr>\n",
              "      <th>23084</th>\n",
              "      <td>2279.57</td>\n",
              "    </tr>\n",
              "    <tr>\n",
              "      <th>85099B</th>\n",
              "      <td>7122.73</td>\n",
              "    </tr>\n",
              "    <tr>\n",
              "      <th rowspan=\"5\" valign=\"top\">2011-06-30</th>\n",
              "      <th>22086</th>\n",
              "      <td>910.88</td>\n",
              "    </tr>\n",
              "    <tr>\n",
              "      <th>22197</th>\n",
              "      <td>1706.91</td>\n",
              "    </tr>\n",
              "    <tr>\n",
              "      <th>23084</th>\n",
              "      <td>3326.87</td>\n",
              "    </tr>\n",
              "    <tr>\n",
              "      <th>84826</th>\n",
              "      <td>3.40</td>\n",
              "    </tr>\n",
              "    <tr>\n",
              "      <th>85099B</th>\n",
              "      <td>7247.98</td>\n",
              "    </tr>\n",
              "    <tr>\n",
              "      <th rowspan=\"5\" valign=\"top\">2011-07-31</th>\n",
              "      <th>22086</th>\n",
              "      <td>1077.93</td>\n",
              "    </tr>\n",
              "    <tr>\n",
              "      <th>22197</th>\n",
              "      <td>1540.00</td>\n",
              "    </tr>\n",
              "    <tr>\n",
              "      <th>23084</th>\n",
              "      <td>668.59</td>\n",
              "    </tr>\n",
              "    <tr>\n",
              "      <th>84826</th>\n",
              "      <td>1.70</td>\n",
              "    </tr>\n",
              "    <tr>\n",
              "      <th>85099B</th>\n",
              "      <td>6253.87</td>\n",
              "    </tr>\n",
              "    <tr>\n",
              "      <th rowspan=\"5\" valign=\"top\">2011-08-31</th>\n",
              "      <th>22086</th>\n",
              "      <td>1334.94</td>\n",
              "    </tr>\n",
              "    <tr>\n",
              "      <th>22197</th>\n",
              "      <td>4133.35</td>\n",
              "    </tr>\n",
              "    <tr>\n",
              "      <th>23084</th>\n",
              "      <td>3533.57</td>\n",
              "    </tr>\n",
              "    <tr>\n",
              "      <th>84826</th>\n",
              "      <td>61.20</td>\n",
              "    </tr>\n",
              "    <tr>\n",
              "      <th>85099B</th>\n",
              "      <td>10796.56</td>\n",
              "    </tr>\n",
              "    <tr>\n",
              "      <th rowspan=\"4\" valign=\"top\">2011-09-30</th>\n",
              "      <th>22086</th>\n",
              "      <td>6006.10</td>\n",
              "    </tr>\n",
              "    <tr>\n",
              "      <th>22197</th>\n",
              "      <td>3607.13</td>\n",
              "    </tr>\n",
              "    <tr>\n",
              "      <th>23084</th>\n",
              "      <td>699.78</td>\n",
              "    </tr>\n",
              "    <tr>\n",
              "      <th>85099B</th>\n",
              "      <td>8884.33</td>\n",
              "    </tr>\n",
              "    <tr>\n",
              "      <th rowspan=\"5\" valign=\"top\">2011-10-31</th>\n",
              "      <th>22086</th>\n",
              "      <td>10031.39</td>\n",
              "    </tr>\n",
              "    <tr>\n",
              "      <th>22197</th>\n",
              "      <td>4813.95</td>\n",
              "    </tr>\n",
              "    <tr>\n",
              "      <th>23084</th>\n",
              "      <td>12256.87</td>\n",
              "    </tr>\n",
              "    <tr>\n",
              "      <th>84826</th>\n",
              "      <td>9.35</td>\n",
              "    </tr>\n",
              "    <tr>\n",
              "      <th>85099B</th>\n",
              "      <td>10485.81</td>\n",
              "    </tr>\n",
              "    <tr>\n",
              "      <th rowspan=\"5\" valign=\"top\">2011-11-30</th>\n",
              "      <th>22086</th>\n",
              "      <td>28985.04</td>\n",
              "    </tr>\n",
              "    <tr>\n",
              "      <th>22197</th>\n",
              "      <td>14195.60</td>\n",
              "    </tr>\n",
              "    <tr>\n",
              "      <th>23084</th>\n",
              "      <td>34556.72</td>\n",
              "    </tr>\n",
              "    <tr>\n",
              "      <th>84826</th>\n",
              "      <td>9.35</td>\n",
              "    </tr>\n",
              "    <tr>\n",
              "      <th>85099B</th>\n",
              "      <td>11641.37</td>\n",
              "    </tr>\n",
              "  </tbody>\n",
              "</table>\n",
              "</div>"
            ],
            "text/plain": [
              "                          Sales\n",
              "InvoiceDate StockCode          \n",
              "2010-12-31  22086       9225.80\n",
              "            22197       2630.79\n",
              "            84826        119.10\n",
              "            85099B      4019.15\n",
              "2011-01-31  22086        143.32\n",
              "            22197       1495.48\n",
              "            84826        100.80\n",
              "            85099B      5047.65\n",
              "2011-02-28  22086         24.95\n",
              "            22197       2127.00\n",
              "            84826         17.70\n",
              "            85099B      5617.24\n",
              "2011-03-31  22086        232.01\n",
              "            22197       3032.81\n",
              "            84826         51.00\n",
              "            85099B     10118.38\n",
              "2011-04-30  22086         44.03\n",
              "            22197       1495.57\n",
              "            84826          0.85\n",
              "            85099B      4878.08\n",
              "2011-05-31  22086         65.19\n",
              "            22197       5151.63\n",
              "            23084       2279.57\n",
              "            85099B      7122.73\n",
              "2011-06-30  22086        910.88\n",
              "            22197       1706.91\n",
              "            23084       3326.87\n",
              "            84826          3.40\n",
              "            85099B      7247.98\n",
              "2011-07-31  22086       1077.93\n",
              "            22197       1540.00\n",
              "            23084        668.59\n",
              "            84826          1.70\n",
              "            85099B      6253.87\n",
              "2011-08-31  22086       1334.94\n",
              "            22197       4133.35\n",
              "            23084       3533.57\n",
              "            84826         61.20\n",
              "            85099B     10796.56\n",
              "2011-09-30  22086       6006.10\n",
              "            22197       3607.13\n",
              "            23084        699.78\n",
              "            85099B      8884.33\n",
              "2011-10-31  22086      10031.39\n",
              "            22197       4813.95\n",
              "            23084      12256.87\n",
              "            84826          9.35\n",
              "            85099B     10485.81\n",
              "2011-11-30  22086      28985.04\n",
              "            22197      14195.60\n",
              "            23084      34556.72\n",
              "            84826          9.35\n",
              "            85099B     11641.37"
            ]
          },
          "metadata": {
            "tags": []
          },
          "execution_count": 262
        }
      ]
    },
    {
      "cell_type": "code",
      "metadata": {
        "id": "K91tPi989_UJ"
      },
      "source": [
        "# transform this data into a tabular format where columns are the individual \n",
        "# stock codes and the rows are the invoice dates\n",
        "itmes_df = m_item_df.reset_index().pivot('InvoiceDate','StockCode').fillna(0)\n",
        "itmes_df = itmes_df.reset_index()\n",
        "itmes_df = itmes_df.set_index('InvoiceDate')\n",
        "itmes_df.columns = itmes_df.columns.droplevel(0)"
      ],
      "execution_count": null,
      "outputs": []
    },
    {
      "cell_type": "code",
      "metadata": {
        "id": "RVzFEAm79_UJ",
        "outputId": "2c8ed301-219e-441f-93ef-778cc26985d9"
      },
      "source": [
        "itmes_df"
      ],
      "execution_count": null,
      "outputs": [
        {
          "output_type": "execute_result",
          "data": {
            "text/html": [
              "<div>\n",
              "<style scoped>\n",
              "    .dataframe tbody tr th:only-of-type {\n",
              "        vertical-align: middle;\n",
              "    }\n",
              "\n",
              "    .dataframe tbody tr th {\n",
              "        vertical-align: top;\n",
              "    }\n",
              "\n",
              "    .dataframe thead th {\n",
              "        text-align: right;\n",
              "    }\n",
              "</style>\n",
              "<table border=\"1\" class=\"dataframe\">\n",
              "  <thead>\n",
              "    <tr style=\"text-align: right;\">\n",
              "      <th>StockCode</th>\n",
              "      <th>22086</th>\n",
              "      <th>22197</th>\n",
              "      <th>23084</th>\n",
              "      <th>84826</th>\n",
              "      <th>85099B</th>\n",
              "    </tr>\n",
              "    <tr>\n",
              "      <th>InvoiceDate</th>\n",
              "      <th></th>\n",
              "      <th></th>\n",
              "      <th></th>\n",
              "      <th></th>\n",
              "      <th></th>\n",
              "    </tr>\n",
              "  </thead>\n",
              "  <tbody>\n",
              "    <tr>\n",
              "      <th>2010-12-31</th>\n",
              "      <td>9225.80</td>\n",
              "      <td>2630.79</td>\n",
              "      <td>0.00</td>\n",
              "      <td>119.10</td>\n",
              "      <td>4019.15</td>\n",
              "    </tr>\n",
              "    <tr>\n",
              "      <th>2011-01-31</th>\n",
              "      <td>143.32</td>\n",
              "      <td>1495.48</td>\n",
              "      <td>0.00</td>\n",
              "      <td>100.80</td>\n",
              "      <td>5047.65</td>\n",
              "    </tr>\n",
              "    <tr>\n",
              "      <th>2011-02-28</th>\n",
              "      <td>24.95</td>\n",
              "      <td>2127.00</td>\n",
              "      <td>0.00</td>\n",
              "      <td>17.70</td>\n",
              "      <td>5617.24</td>\n",
              "    </tr>\n",
              "    <tr>\n",
              "      <th>2011-03-31</th>\n",
              "      <td>232.01</td>\n",
              "      <td>3032.81</td>\n",
              "      <td>0.00</td>\n",
              "      <td>51.00</td>\n",
              "      <td>10118.38</td>\n",
              "    </tr>\n",
              "    <tr>\n",
              "      <th>2011-04-30</th>\n",
              "      <td>44.03</td>\n",
              "      <td>1495.57</td>\n",
              "      <td>0.00</td>\n",
              "      <td>0.85</td>\n",
              "      <td>4878.08</td>\n",
              "    </tr>\n",
              "    <tr>\n",
              "      <th>2011-05-31</th>\n",
              "      <td>65.19</td>\n",
              "      <td>5151.63</td>\n",
              "      <td>2279.57</td>\n",
              "      <td>0.00</td>\n",
              "      <td>7122.73</td>\n",
              "    </tr>\n",
              "    <tr>\n",
              "      <th>2011-06-30</th>\n",
              "      <td>910.88</td>\n",
              "      <td>1706.91</td>\n",
              "      <td>3326.87</td>\n",
              "      <td>3.40</td>\n",
              "      <td>7247.98</td>\n",
              "    </tr>\n",
              "    <tr>\n",
              "      <th>2011-07-31</th>\n",
              "      <td>1077.93</td>\n",
              "      <td>1540.00</td>\n",
              "      <td>668.59</td>\n",
              "      <td>1.70</td>\n",
              "      <td>6253.87</td>\n",
              "    </tr>\n",
              "    <tr>\n",
              "      <th>2011-08-31</th>\n",
              "      <td>1334.94</td>\n",
              "      <td>4133.35</td>\n",
              "      <td>3533.57</td>\n",
              "      <td>61.20</td>\n",
              "      <td>10796.56</td>\n",
              "    </tr>\n",
              "    <tr>\n",
              "      <th>2011-09-30</th>\n",
              "      <td>6006.10</td>\n",
              "      <td>3607.13</td>\n",
              "      <td>699.78</td>\n",
              "      <td>0.00</td>\n",
              "      <td>8884.33</td>\n",
              "    </tr>\n",
              "    <tr>\n",
              "      <th>2011-10-31</th>\n",
              "      <td>10031.39</td>\n",
              "      <td>4813.95</td>\n",
              "      <td>12256.87</td>\n",
              "      <td>9.35</td>\n",
              "      <td>10485.81</td>\n",
              "    </tr>\n",
              "    <tr>\n",
              "      <th>2011-11-30</th>\n",
              "      <td>28985.04</td>\n",
              "      <td>14195.60</td>\n",
              "      <td>34556.72</td>\n",
              "      <td>9.35</td>\n",
              "      <td>11641.37</td>\n",
              "    </tr>\n",
              "  </tbody>\n",
              "</table>\n",
              "</div>"
            ],
            "text/plain": [
              "StockCode       22086     22197     23084   84826    85099B\n",
              "InvoiceDate                                                \n",
              "2010-12-31    9225.80   2630.79      0.00  119.10   4019.15\n",
              "2011-01-31     143.32   1495.48      0.00  100.80   5047.65\n",
              "2011-02-28      24.95   2127.00      0.00   17.70   5617.24\n",
              "2011-03-31     232.01   3032.81      0.00   51.00  10118.38\n",
              "2011-04-30      44.03   1495.57      0.00    0.85   4878.08\n",
              "2011-05-31      65.19   5151.63   2279.57    0.00   7122.73\n",
              "2011-06-30     910.88   1706.91   3326.87    3.40   7247.98\n",
              "2011-07-31    1077.93   1540.00    668.59    1.70   6253.87\n",
              "2011-08-31    1334.94   4133.35   3533.57   61.20  10796.56\n",
              "2011-09-30    6006.10   3607.13    699.78    0.00   8884.33\n",
              "2011-10-31   10031.39   4813.95  12256.87    9.35  10485.81\n",
              "2011-11-30   28985.04  14195.60  34556.72    9.35  11641.37"
            ]
          },
          "metadata": {
            "tags": []
          },
          "execution_count": 264
        }
      ]
    },
    {
      "cell_type": "code",
      "metadata": {
        "id": "sx0GFjgB9_UK",
        "outputId": "5a9f6588-3bdf-445c-8da5-ad909425da18"
      },
      "source": [
        "# Time series plot for the top 5 items\n",
        "plot1 = pd.DataFrame(itmes_df.values).plot(\n",
        "    figsize=(10,7),\n",
        "    grid=True,\n",
        ")\n",
        "\n",
        "plot1.set_ylabel('number of purchases')\n",
        "plot1.set_xlabel('date')\n",
        "plot1.set_title('Item Trends over Time')\n",
        "\n",
        "plot1.legend(itmes_df.columns, loc='upper left')\n",
        "\n",
        "plt.xticks(\n",
        "    range(len(itmes_df.index)), \n",
        "    [x.strftime('%m.%Y') for x in itmes_df.index], \n",
        "    rotation=45\n",
        ")\n",
        "\n",
        "plt.show()"
      ],
      "execution_count": null,
      "outputs": [
        {
          "output_type": "display_data",
          "data": {
            "image/png": "[encoded data removed]",
            "text/plain": [
              "<Figure size 720x504 with 1 Axes>"
            ]
          },
          "metadata": {
            "tags": [],
            "needs_background": "light"
          }
        }
      ]
    },
    {
      "cell_type": "markdown",
      "metadata": {
        "id": "A7GnPpqV9_UK"
      },
      "source": [
        "## Q. What do you observe?"
      ]
    },
    {
      "cell_type": "markdown",
      "metadata": {
        "id": "WMclQg9C9_UK"
      },
      "source": [
        "This chart shows the top 5 items by quantity and monthly sales. We can say that item with stockcode 23084 was least demandable from 12-2010 to 9-2011 but its demand increased drastically after that and it was the highest demanded item. The second most trending item was 22086 after June 2011. However, item with stockcode 84826 was not in the trend. Moreover, other items' demand fluctuated during this time period."
      ]
    },
    {
      "cell_type": "code",
      "metadata": {
        "id": "pQT3tHWg9_UK"
      },
      "source": [
        "m_revenue_df = pd.DataFrame(df.set_index('InvoiceDate').groupby([\n",
        "        pd.Grouper(freq='M'), 'StockCode'\n",
        "    ])['Sales'].sum()\n",
        "                        )\n",
        "\n",
        "last_m_rev_sorted_df = m_revenue_df.loc['2011-11-30'].sort_values(\n",
        "    by='Sales', ascending=False\n",
        ").reset_index()"
      ],
      "execution_count": null,
      "outputs": []
    },
    {
      "cell_type": "code",
      "metadata": {
        "id": "EtN-cQFl9_UL",
        "outputId": "4aec559e-f6ba-4264-94ab-eec8e2226947"
      },
      "source": [
        "print(last_m_rev_sorted_df.head())"
      ],
      "execution_count": null,
      "outputs": [
        {
          "output_type": "stream",
          "text": [
            "  InvoiceDate StockCode     Sales\n",
            "0  2011-11-30       DOT  36905.40\n",
            "1  2011-11-30     23084  34556.72\n",
            "2  2011-11-30     22086  28985.04\n",
            "3  2011-11-30     22197  14195.60\n",
            "4  2011-11-30    85123A  14136.70\n"
          ],
          "name": "stdout"
        }
      ]
    },
    {
      "cell_type": "code",
      "metadata": {
        "id": "HetNP5Ze9_UL",
        "outputId": "797dd249-df21-4bd8-aa0d-f835b1425f35"
      },
      "source": [
        "# Use the top 5 items by sales and find the monthly sales for those items \n",
        "m_revenue_df = pd.DataFrame(\n",
        "    df.loc[\n",
        "        df['StockCode'].isin(['DOT',23084, 22086, 22197, '85123A'])\n",
        "    ].set_index('InvoiceDate').groupby([\n",
        "        pd.Grouper(freq='M'), 'StockCode'\n",
        "    ])['Sales'].sum()\n",
        ")\n",
        "m_revenue_df"
      ],
      "execution_count": null,
      "outputs": [
        {
          "output_type": "execute_result",
          "data": {
            "text/html": [
              "<div>\n",
              "<style scoped>\n",
              "    .dataframe tbody tr th:only-of-type {\n",
              "        vertical-align: middle;\n",
              "    }\n",
              "\n",
              "    .dataframe tbody tr th {\n",
              "        vertical-align: top;\n",
              "    }\n",
              "\n",
              "    .dataframe thead th {\n",
              "        text-align: right;\n",
              "    }\n",
              "</style>\n",
              "<table border=\"1\" class=\"dataframe\">\n",
              "  <thead>\n",
              "    <tr style=\"text-align: right;\">\n",
              "      <th></th>\n",
              "      <th></th>\n",
              "      <th>Sales</th>\n",
              "    </tr>\n",
              "    <tr>\n",
              "      <th>InvoiceDate</th>\n",
              "      <th>StockCode</th>\n",
              "      <th></th>\n",
              "    </tr>\n",
              "  </thead>\n",
              "  <tbody>\n",
              "    <tr>\n",
              "      <th rowspan=\"4\" valign=\"top\">2010-12-31</th>\n",
              "      <th>22086</th>\n",
              "      <td>9225.80</td>\n",
              "    </tr>\n",
              "    <tr>\n",
              "      <th>22197</th>\n",
              "      <td>2630.79</td>\n",
              "    </tr>\n",
              "    <tr>\n",
              "      <th>85123A</th>\n",
              "      <td>10435.36</td>\n",
              "    </tr>\n",
              "    <tr>\n",
              "      <th>DOT</th>\n",
              "      <td>24671.19</td>\n",
              "    </tr>\n",
              "    <tr>\n",
              "      <th rowspan=\"4\" valign=\"top\">2011-01-31</th>\n",
              "      <th>22086</th>\n",
              "      <td>143.32</td>\n",
              "    </tr>\n",
              "    <tr>\n",
              "      <th>22197</th>\n",
              "      <td>1495.48</td>\n",
              "    </tr>\n",
              "    <tr>\n",
              "      <th>85123A</th>\n",
              "      <td>15223.21</td>\n",
              "    </tr>\n",
              "    <tr>\n",
              "      <th>DOT</th>\n",
              "      <td>13921.82</td>\n",
              "    </tr>\n",
              "    <tr>\n",
              "      <th rowspan=\"4\" valign=\"top\">2011-02-28</th>\n",
              "      <th>22086</th>\n",
              "      <td>24.95</td>\n",
              "    </tr>\n",
              "    <tr>\n",
              "      <th>22197</th>\n",
              "      <td>2127.00</td>\n",
              "    </tr>\n",
              "    <tr>\n",
              "      <th>85123A</th>\n",
              "      <td>5140.11</td>\n",
              "    </tr>\n",
              "    <tr>\n",
              "      <th>DOT</th>\n",
              "      <td>10060.57</td>\n",
              "    </tr>\n",
              "    <tr>\n",
              "      <th rowspan=\"4\" valign=\"top\">2011-03-31</th>\n",
              "      <th>22086</th>\n",
              "      <td>232.01</td>\n",
              "    </tr>\n",
              "    <tr>\n",
              "      <th>22197</th>\n",
              "      <td>3032.81</td>\n",
              "    </tr>\n",
              "    <tr>\n",
              "      <th>85123A</th>\n",
              "      <td>5597.90</td>\n",
              "    </tr>\n",
              "    <tr>\n",
              "      <th>DOT</th>\n",
              "      <td>11829.71</td>\n",
              "    </tr>\n",
              "    <tr>\n",
              "      <th rowspan=\"4\" valign=\"top\">2011-04-30</th>\n",
              "      <th>22086</th>\n",
              "      <td>44.03</td>\n",
              "    </tr>\n",
              "    <tr>\n",
              "      <th>22197</th>\n",
              "      <td>1495.57</td>\n",
              "    </tr>\n",
              "    <tr>\n",
              "      <th>85123A</th>\n",
              "      <td>10017.79</td>\n",
              "    </tr>\n",
              "    <tr>\n",
              "      <th>DOT</th>\n",
              "      <td>7535.38</td>\n",
              "    </tr>\n",
              "    <tr>\n",
              "      <th rowspan=\"5\" valign=\"top\">2011-05-31</th>\n",
              "      <th>22086</th>\n",
              "      <td>65.19</td>\n",
              "    </tr>\n",
              "    <tr>\n",
              "      <th>22197</th>\n",
              "      <td>5151.63</td>\n",
              "    </tr>\n",
              "    <tr>\n",
              "      <th>23084</th>\n",
              "      <td>2279.57</td>\n",
              "    </tr>\n",
              "    <tr>\n",
              "      <th>85123A</th>\n",
              "      <td>11216.42</td>\n",
              "    </tr>\n",
              "    <tr>\n",
              "      <th>DOT</th>\n",
              "      <td>10229.30</td>\n",
              "    </tr>\n",
              "    <tr>\n",
              "      <th rowspan=\"5\" valign=\"top\">2011-06-30</th>\n",
              "      <th>22086</th>\n",
              "      <td>910.88</td>\n",
              "    </tr>\n",
              "    <tr>\n",
              "      <th>22197</th>\n",
              "      <td>1706.91</td>\n",
              "    </tr>\n",
              "    <tr>\n",
              "      <th>23084</th>\n",
              "      <td>3326.87</td>\n",
              "    </tr>\n",
              "    <tr>\n",
              "      <th>85123A</th>\n",
              "      <td>4680.81</td>\n",
              "    </tr>\n",
              "    <tr>\n",
              "      <th>DOT</th>\n",
              "      <td>11848.66</td>\n",
              "    </tr>\n",
              "    <tr>\n",
              "      <th rowspan=\"5\" valign=\"top\">2011-07-31</th>\n",
              "      <th>22086</th>\n",
              "      <td>1077.93</td>\n",
              "    </tr>\n",
              "    <tr>\n",
              "      <th>22197</th>\n",
              "      <td>1540.00</td>\n",
              "    </tr>\n",
              "    <tr>\n",
              "      <th>23084</th>\n",
              "      <td>668.59</td>\n",
              "    </tr>\n",
              "    <tr>\n",
              "      <th>85123A</th>\n",
              "      <td>8504.11</td>\n",
              "    </tr>\n",
              "    <tr>\n",
              "      <th>DOT</th>\n",
              "      <td>12841.00</td>\n",
              "    </tr>\n",
              "    <tr>\n",
              "      <th rowspan=\"5\" valign=\"top\">2011-08-31</th>\n",
              "      <th>22086</th>\n",
              "      <td>1334.94</td>\n",
              "    </tr>\n",
              "    <tr>\n",
              "      <th>22197</th>\n",
              "      <td>4133.35</td>\n",
              "    </tr>\n",
              "    <tr>\n",
              "      <th>23084</th>\n",
              "      <td>3533.57</td>\n",
              "    </tr>\n",
              "    <tr>\n",
              "      <th>85123A</th>\n",
              "      <td>5620.57</td>\n",
              "    </tr>\n",
              "    <tr>\n",
              "      <th>DOT</th>\n",
              "      <td>13400.52</td>\n",
              "    </tr>\n",
              "    <tr>\n",
              "      <th rowspan=\"5\" valign=\"top\">2011-09-30</th>\n",
              "      <th>22086</th>\n",
              "      <td>6006.10</td>\n",
              "    </tr>\n",
              "    <tr>\n",
              "      <th>22197</th>\n",
              "      <td>3607.13</td>\n",
              "    </tr>\n",
              "    <tr>\n",
              "      <th>23084</th>\n",
              "      <td>699.78</td>\n",
              "    </tr>\n",
              "    <tr>\n",
              "      <th>85123A</th>\n",
              "      <td>6957.46</td>\n",
              "    </tr>\n",
              "    <tr>\n",
              "      <th>DOT</th>\n",
              "      <td>15177.40</td>\n",
              "    </tr>\n",
              "    <tr>\n",
              "      <th rowspan=\"5\" valign=\"top\">2011-10-31</th>\n",
              "      <th>22086</th>\n",
              "      <td>10031.39</td>\n",
              "    </tr>\n",
              "    <tr>\n",
              "      <th>22197</th>\n",
              "      <td>4813.95</td>\n",
              "    </tr>\n",
              "    <tr>\n",
              "      <th>23084</th>\n",
              "      <td>12256.87</td>\n",
              "    </tr>\n",
              "    <tr>\n",
              "      <th>85123A</th>\n",
              "      <td>4761.95</td>\n",
              "    </tr>\n",
              "    <tr>\n",
              "      <th>DOT</th>\n",
              "      <td>17955.13</td>\n",
              "    </tr>\n",
              "    <tr>\n",
              "      <th rowspan=\"5\" valign=\"top\">2011-11-30</th>\n",
              "      <th>22086</th>\n",
              "      <td>28985.04</td>\n",
              "    </tr>\n",
              "    <tr>\n",
              "      <th>22197</th>\n",
              "      <td>14195.60</td>\n",
              "    </tr>\n",
              "    <tr>\n",
              "      <th>23084</th>\n",
              "      <td>34556.72</td>\n",
              "    </tr>\n",
              "    <tr>\n",
              "      <th>85123A</th>\n",
              "      <td>14136.70</td>\n",
              "    </tr>\n",
              "    <tr>\n",
              "      <th>DOT</th>\n",
              "      <td>36905.40</td>\n",
              "    </tr>\n",
              "  </tbody>\n",
              "</table>\n",
              "</div>"
            ],
            "text/plain": [
              "                          Sales\n",
              "InvoiceDate StockCode          \n",
              "2010-12-31  22086       9225.80\n",
              "            22197       2630.79\n",
              "            85123A     10435.36\n",
              "            DOT        24671.19\n",
              "2011-01-31  22086        143.32\n",
              "            22197       1495.48\n",
              "            85123A     15223.21\n",
              "            DOT        13921.82\n",
              "2011-02-28  22086         24.95\n",
              "            22197       2127.00\n",
              "            85123A      5140.11\n",
              "            DOT        10060.57\n",
              "2011-03-31  22086        232.01\n",
              "            22197       3032.81\n",
              "            85123A      5597.90\n",
              "            DOT        11829.71\n",
              "2011-04-30  22086         44.03\n",
              "            22197       1495.57\n",
              "            85123A     10017.79\n",
              "            DOT         7535.38\n",
              "2011-05-31  22086         65.19\n",
              "            22197       5151.63\n",
              "            23084       2279.57\n",
              "            85123A     11216.42\n",
              "            DOT        10229.30\n",
              "2011-06-30  22086        910.88\n",
              "            22197       1706.91\n",
              "            23084       3326.87\n",
              "            85123A      4680.81\n",
              "            DOT        11848.66\n",
              "2011-07-31  22086       1077.93\n",
              "            22197       1540.00\n",
              "            23084        668.59\n",
              "            85123A      8504.11\n",
              "            DOT        12841.00\n",
              "2011-08-31  22086       1334.94\n",
              "            22197       4133.35\n",
              "            23084       3533.57\n",
              "            85123A      5620.57\n",
              "            DOT        13400.52\n",
              "2011-09-30  22086       6006.10\n",
              "            22197       3607.13\n",
              "            23084        699.78\n",
              "            85123A      6957.46\n",
              "            DOT        15177.40\n",
              "2011-10-31  22086      10031.39\n",
              "            22197       4813.95\n",
              "            23084      12256.87\n",
              "            85123A      4761.95\n",
              "            DOT        17955.13\n",
              "2011-11-30  22086      28985.04\n",
              "            22197      14195.60\n",
              "            23084      34556.72\n",
              "            85123A     14136.70\n",
              "            DOT        36905.40"
            ]
          },
          "metadata": {
            "tags": []
          },
          "execution_count": 268
        }
      ]
    },
    {
      "cell_type": "code",
      "metadata": {
        "id": "f1siMAj-9_UL",
        "outputId": "9cf3a6de-c829-41a9-a06e-c5d7a99c7e0a"
      },
      "source": [
        "# transform this data into a tabular format where columns are the individual \n",
        "# stock codes and the rows are the invoice dates\n",
        "itmes= m_revenue_df.reset_index().pivot('InvoiceDate','StockCode').fillna(0)\n",
        "itmes= itmes.reset_index()\n",
        "itmes= itmes.set_index('InvoiceDate')\n",
        "itmes.columns = itmes.columns.droplevel(0)\n",
        "\n",
        "itmes"
      ],
      "execution_count": null,
      "outputs": [
        {
          "output_type": "execute_result",
          "data": {
            "text/html": [
              "<div>\n",
              "<style scoped>\n",
              "    .dataframe tbody tr th:only-of-type {\n",
              "        vertical-align: middle;\n",
              "    }\n",
              "\n",
              "    .dataframe tbody tr th {\n",
              "        vertical-align: top;\n",
              "    }\n",
              "\n",
              "    .dataframe thead th {\n",
              "        text-align: right;\n",
              "    }\n",
              "</style>\n",
              "<table border=\"1\" class=\"dataframe\">\n",
              "  <thead>\n",
              "    <tr style=\"text-align: right;\">\n",
              "      <th>StockCode</th>\n",
              "      <th>22086</th>\n",
              "      <th>22197</th>\n",
              "      <th>23084</th>\n",
              "      <th>85123A</th>\n",
              "      <th>DOT</th>\n",
              "    </tr>\n",
              "    <tr>\n",
              "      <th>InvoiceDate</th>\n",
              "      <th></th>\n",
              "      <th></th>\n",
              "      <th></th>\n",
              "      <th></th>\n",
              "      <th></th>\n",
              "    </tr>\n",
              "  </thead>\n",
              "  <tbody>\n",
              "    <tr>\n",
              "      <th>2010-12-31</th>\n",
              "      <td>9225.80</td>\n",
              "      <td>2630.79</td>\n",
              "      <td>0.00</td>\n",
              "      <td>10435.36</td>\n",
              "      <td>24671.19</td>\n",
              "    </tr>\n",
              "    <tr>\n",
              "      <th>2011-01-31</th>\n",
              "      <td>143.32</td>\n",
              "      <td>1495.48</td>\n",
              "      <td>0.00</td>\n",
              "      <td>15223.21</td>\n",
              "      <td>13921.82</td>\n",
              "    </tr>\n",
              "    <tr>\n",
              "      <th>2011-02-28</th>\n",
              "      <td>24.95</td>\n",
              "      <td>2127.00</td>\n",
              "      <td>0.00</td>\n",
              "      <td>5140.11</td>\n",
              "      <td>10060.57</td>\n",
              "    </tr>\n",
              "    <tr>\n",
              "      <th>2011-03-31</th>\n",
              "      <td>232.01</td>\n",
              "      <td>3032.81</td>\n",
              "      <td>0.00</td>\n",
              "      <td>5597.90</td>\n",
              "      <td>11829.71</td>\n",
              "    </tr>\n",
              "    <tr>\n",
              "      <th>2011-04-30</th>\n",
              "      <td>44.03</td>\n",
              "      <td>1495.57</td>\n",
              "      <td>0.00</td>\n",
              "      <td>10017.79</td>\n",
              "      <td>7535.38</td>\n",
              "    </tr>\n",
              "    <tr>\n",
              "      <th>2011-05-31</th>\n",
              "      <td>65.19</td>\n",
              "      <td>5151.63</td>\n",
              "      <td>2279.57</td>\n",
              "      <td>11216.42</td>\n",
              "      <td>10229.30</td>\n",
              "    </tr>\n",
              "    <tr>\n",
              "      <th>2011-06-30</th>\n",
              "      <td>910.88</td>\n",
              "      <td>1706.91</td>\n",
              "      <td>3326.87</td>\n",
              "      <td>4680.81</td>\n",
              "      <td>11848.66</td>\n",
              "    </tr>\n",
              "    <tr>\n",
              "      <th>2011-07-31</th>\n",
              "      <td>1077.93</td>\n",
              "      <td>1540.00</td>\n",
              "      <td>668.59</td>\n",
              "      <td>8504.11</td>\n",
              "      <td>12841.00</td>\n",
              "    </tr>\n",
              "    <tr>\n",
              "      <th>2011-08-31</th>\n",
              "      <td>1334.94</td>\n",
              "      <td>4133.35</td>\n",
              "      <td>3533.57</td>\n",
              "      <td>5620.57</td>\n",
              "      <td>13400.52</td>\n",
              "    </tr>\n",
              "    <tr>\n",
              "      <th>2011-09-30</th>\n",
              "      <td>6006.10</td>\n",
              "      <td>3607.13</td>\n",
              "      <td>699.78</td>\n",
              "      <td>6957.46</td>\n",
              "      <td>15177.40</td>\n",
              "    </tr>\n",
              "    <tr>\n",
              "      <th>2011-10-31</th>\n",
              "      <td>10031.39</td>\n",
              "      <td>4813.95</td>\n",
              "      <td>12256.87</td>\n",
              "      <td>4761.95</td>\n",
              "      <td>17955.13</td>\n",
              "    </tr>\n",
              "    <tr>\n",
              "      <th>2011-11-30</th>\n",
              "      <td>28985.04</td>\n",
              "      <td>14195.60</td>\n",
              "      <td>34556.72</td>\n",
              "      <td>14136.70</td>\n",
              "      <td>36905.40</td>\n",
              "    </tr>\n",
              "  </tbody>\n",
              "</table>\n",
              "</div>"
            ],
            "text/plain": [
              "StockCode       22086     22197     23084    85123A       DOT\n",
              "InvoiceDate                                                  \n",
              "2010-12-31    9225.80   2630.79      0.00  10435.36  24671.19\n",
              "2011-01-31     143.32   1495.48      0.00  15223.21  13921.82\n",
              "2011-02-28      24.95   2127.00      0.00   5140.11  10060.57\n",
              "2011-03-31     232.01   3032.81      0.00   5597.90  11829.71\n",
              "2011-04-30      44.03   1495.57      0.00  10017.79   7535.38\n",
              "2011-05-31      65.19   5151.63   2279.57  11216.42  10229.30\n",
              "2011-06-30     910.88   1706.91   3326.87   4680.81  11848.66\n",
              "2011-07-31    1077.93   1540.00    668.59   8504.11  12841.00\n",
              "2011-08-31    1334.94   4133.35   3533.57   5620.57  13400.52\n",
              "2011-09-30    6006.10   3607.13    699.78   6957.46  15177.40\n",
              "2011-10-31   10031.39   4813.95  12256.87   4761.95  17955.13\n",
              "2011-11-30   28985.04  14195.60  34556.72  14136.70  36905.40"
            ]
          },
          "metadata": {
            "tags": []
          },
          "execution_count": 276
        }
      ]
    },
    {
      "cell_type": "code",
      "metadata": {
        "id": "N4aUUB9n9_UL",
        "outputId": "86bbb3a8-306d-450f-b2cb-1685af9222f4"
      },
      "source": [
        "# Time series plot for the top 5 items\n",
        "plot1 = pd.DataFrame(itmes.values).plot(\n",
        "    figsize=(10,7),\n",
        "    grid=True,\n",
        ")\n",
        "\n",
        "plot1.set_ylabel('number of purchases')\n",
        "plot1.set_xlabel('date')\n",
        "plot1.set_title('Item Trends over Time')\n",
        "\n",
        "plot1.legend(itmes.columns, loc='upper left')\n",
        "\n",
        "plt.xticks(\n",
        "    range(len(itmes.index)), \n",
        "    [x.strftime('%m.%Y') for x in itmes.index], \n",
        "    rotation=45\n",
        ")\n",
        "\n",
        "plt.show()"
      ],
      "execution_count": null,
      "outputs": [
        {
          "output_type": "display_data",
          "data": {
            "image/png": "[encoded data removed]",
            "text/plain": [
              "<Figure size 720x504 with 1 Axes>"
            ]
          },
          "metadata": {
            "tags": [],
            "needs_background": "light"
          }
        }
      ]
    },
    {
      "cell_type": "markdown",
      "metadata": {
        "id": "flGPSiJY9_UM"
      },
      "source": [
        "## Q. What do you observe?"
      ]
    },
    {
      "cell_type": "markdown",
      "metadata": {
        "id": "J3AIWCJq9_UM"
      },
      "source": [
        "This chart visualize the top 5 items by sales. we can comment that item with stock code DOT was in highest demand at last whereas 23084 and 22086 were the 2nd and 3rd most trending items,respectively. The remaining items stayed between 0 to 15000 in the entire timeframe."
      ]
    },
    {
      "cell_type": "code",
      "metadata": {
        "id": "e_mbgmZV9_UM"
      },
      "source": [
        "# Drop NaN records\n",
        "df = df[pd.notnull(df['CustomerID'])]"
      ],
      "execution_count": null,
      "outputs": []
    },
    {
      "cell_type": "code",
      "metadata": {
        "id": "WYMFm-sH9_UM",
        "outputId": "827322b6-9dd1-4f4b-c4a9-431f80eaec25"
      },
      "source": [
        "df.shape"
      ],
      "execution_count": null,
      "outputs": [
        {
          "output_type": "execute_result",
          "data": {
            "text/plain": [
              "(380620, 9)"
            ]
          },
          "metadata": {
            "tags": []
          },
          "execution_count": 281
        }
      ]
    },
    {
      "cell_type": "code",
      "metadata": {
        "id": "yHgNS5kX9_UM"
      },
      "source": [
        " # Summarize the data for each order or InvoiceNo\n",
        "\n",
        "orders_df = df.groupby(['CustomerID', 'InvoiceNo']).agg({\n",
        "            'Sales': sum,\n",
        "            'InvoiceDate': max\n",
        "        })"
      ],
      "execution_count": null,
      "outputs": []
    },
    {
      "cell_type": "code",
      "metadata": {
        "id": "FEMN1WR89_UN",
        "outputId": "afc4778e-a1df-4755-d0d7-79700e22cd62"
      },
      "source": [
        "orders_df"
      ],
      "execution_count": null,
      "outputs": [
        {
          "output_type": "execute_result",
          "data": {
            "text/html": [
              "<div>\n",
              "<style scoped>\n",
              "    .dataframe tbody tr th:only-of-type {\n",
              "        vertical-align: middle;\n",
              "    }\n",
              "\n",
              "    .dataframe tbody tr th {\n",
              "        vertical-align: top;\n",
              "    }\n",
              "\n",
              "    .dataframe thead th {\n",
              "        text-align: right;\n",
              "    }\n",
              "</style>\n",
              "<table border=\"1\" class=\"dataframe\">\n",
              "  <thead>\n",
              "    <tr style=\"text-align: right;\">\n",
              "      <th></th>\n",
              "      <th></th>\n",
              "      <th>Sales</th>\n",
              "      <th>InvoiceDate</th>\n",
              "    </tr>\n",
              "    <tr>\n",
              "      <th>CustomerID</th>\n",
              "      <th>InvoiceNo</th>\n",
              "      <th></th>\n",
              "      <th></th>\n",
              "    </tr>\n",
              "  </thead>\n",
              "  <tbody>\n",
              "    <tr>\n",
              "      <th>12346.0</th>\n",
              "      <th>541431</th>\n",
              "      <td>77183.60</td>\n",
              "      <td>2011-01-18 10:01:00</td>\n",
              "    </tr>\n",
              "    <tr>\n",
              "      <th rowspan=\"4\" valign=\"top\">12347.0</th>\n",
              "      <th>537626</th>\n",
              "      <td>711.79</td>\n",
              "      <td>2010-12-07 14:57:00</td>\n",
              "    </tr>\n",
              "    <tr>\n",
              "      <th>542237</th>\n",
              "      <td>475.39</td>\n",
              "      <td>2011-01-26 14:30:00</td>\n",
              "    </tr>\n",
              "    <tr>\n",
              "      <th>549222</th>\n",
              "      <td>636.25</td>\n",
              "      <td>2011-04-07 10:43:00</td>\n",
              "    </tr>\n",
              "    <tr>\n",
              "      <th>556201</th>\n",
              "      <td>382.52</td>\n",
              "      <td>2011-06-09 13:01:00</td>\n",
              "    </tr>\n",
              "    <tr>\n",
              "      <th>...</th>\n",
              "      <th>...</th>\n",
              "      <td>...</td>\n",
              "      <td>...</td>\n",
              "    </tr>\n",
              "    <tr>\n",
              "      <th rowspan=\"2\" valign=\"top\">18283.0</th>\n",
              "      <th>578262</th>\n",
              "      <td>313.65</td>\n",
              "      <td>2011-11-23 13:27:00</td>\n",
              "    </tr>\n",
              "    <tr>\n",
              "      <th>579673</th>\n",
              "      <td>223.61</td>\n",
              "      <td>2011-11-30 12:59:00</td>\n",
              "    </tr>\n",
              "    <tr>\n",
              "      <th rowspan=\"3\" valign=\"top\">18287.0</th>\n",
              "      <th>554065</th>\n",
              "      <td>765.28</td>\n",
              "      <td>2011-05-22 10:39:00</td>\n",
              "    </tr>\n",
              "    <tr>\n",
              "      <th>570715</th>\n",
              "      <td>1001.32</td>\n",
              "      <td>2011-10-12 10:23:00</td>\n",
              "    </tr>\n",
              "    <tr>\n",
              "      <th>573167</th>\n",
              "      <td>70.68</td>\n",
              "      <td>2011-10-28 09:29:00</td>\n",
              "    </tr>\n",
              "  </tbody>\n",
              "</table>\n",
              "<p>17758 rows × 2 columns</p>\n",
              "</div>"
            ],
            "text/plain": [
              "                         Sales         InvoiceDate\n",
              "CustomerID InvoiceNo                              \n",
              "12346.0    541431     77183.60 2011-01-18 10:01:00\n",
              "12347.0    537626       711.79 2010-12-07 14:57:00\n",
              "           542237       475.39 2011-01-26 14:30:00\n",
              "           549222       636.25 2011-04-07 10:43:00\n",
              "           556201       382.52 2011-06-09 13:01:00\n",
              "...                        ...                 ...\n",
              "18283.0    578262       313.65 2011-11-23 13:27:00\n",
              "           579673       223.61 2011-11-30 12:59:00\n",
              "18287.0    554065       765.28 2011-05-22 10:39:00\n",
              "           570715      1001.32 2011-10-12 10:23:00\n",
              "           573167        70.68 2011-10-28 09:29:00\n",
              "\n",
              "[17758 rows x 2 columns]"
            ]
          },
          "metadata": {
            "tags": []
          },
          "execution_count": 283
        }
      ]
    },
    {
      "cell_type": "markdown",
      "metadata": {
        "id": "2agRsRcd9_UN"
      },
      "source": [
        "## Predict 3 Month Customer Lifetime Value (CLV)"
      ]
    },
    {
      "cell_type": "code",
      "metadata": {
        "id": "tqLxqoa99_UN"
      },
      "source": [
        "clv_freq = '3M'"
      ],
      "execution_count": null,
      "outputs": []
    },
    {
      "cell_type": "code",
      "metadata": {
        "id": "ECcjVX2l9_UN"
      },
      "source": [
        "def groupby_mean(x):\n",
        "    return x.mean()\n",
        "\n",
        "def groupby_count(x):\n",
        "    return x.count()\n",
        "\n",
        "groupby_mean.__name__ = 'avg'\n",
        "groupby_count.__name__ = 'count'"
      ],
      "execution_count": null,
      "outputs": []
    },
    {
      "cell_type": "code",
      "metadata": {
        "id": "EEk9GCUJ9_UO"
      },
      "source": [
        "# Break down data into 3 months chunk\n",
        "# https://pbpython.com/pandas-grouper-agg.html more info \n",
        "data_df = orders_df.reset_index().groupby([\n",
        "    'CustomerID',\n",
        "    pd.Grouper(key='InvoiceDate', freq='3M')\n",
        "]).agg({\n",
        "    'Sales': [sum, groupby_mean, groupby_count],\n",
        "})\n",
        "\n",
        "data_df.columns = ['_'.join(col) for col in data_df.columns]\n",
        "data_df = data_df.reset_index()"
      ],
      "execution_count": null,
      "outputs": []
    },
    {
      "cell_type": "code",
      "metadata": {
        "id": "MEIcwJZN9_UO",
        "outputId": "16da5cbf-31e3-4e66-9678-001b3175569e"
      },
      "source": [
        "data_df.head(10)"
      ],
      "execution_count": null,
      "outputs": [
        {
          "output_type": "execute_result",
          "data": {
            "text/html": [
              "<div>\n",
              "<style scoped>\n",
              "    .dataframe tbody tr th:only-of-type {\n",
              "        vertical-align: middle;\n",
              "    }\n",
              "\n",
              "    .dataframe tbody tr th {\n",
              "        vertical-align: top;\n",
              "    }\n",
              "\n",
              "    .dataframe thead th {\n",
              "        text-align: right;\n",
              "    }\n",
              "</style>\n",
              "<table border=\"1\" class=\"dataframe\">\n",
              "  <thead>\n",
              "    <tr style=\"text-align: right;\">\n",
              "      <th></th>\n",
              "      <th>CustomerID</th>\n",
              "      <th>InvoiceDate</th>\n",
              "      <th>Sales_sum</th>\n",
              "      <th>Sales_avg</th>\n",
              "      <th>Sales_count</th>\n",
              "    </tr>\n",
              "  </thead>\n",
              "  <tbody>\n",
              "    <tr>\n",
              "      <th>0</th>\n",
              "      <td>12346.0</td>\n",
              "      <td>2011-03-31</td>\n",
              "      <td>77183.60</td>\n",
              "      <td>77183.600</td>\n",
              "      <td>1.0</td>\n",
              "    </tr>\n",
              "    <tr>\n",
              "      <th>1</th>\n",
              "      <td>12347.0</td>\n",
              "      <td>2010-12-31</td>\n",
              "      <td>711.79</td>\n",
              "      <td>711.790</td>\n",
              "      <td>1.0</td>\n",
              "    </tr>\n",
              "    <tr>\n",
              "      <th>2</th>\n",
              "      <td>12347.0</td>\n",
              "      <td>2011-03-31</td>\n",
              "      <td>475.39</td>\n",
              "      <td>475.390</td>\n",
              "      <td>1.0</td>\n",
              "    </tr>\n",
              "    <tr>\n",
              "      <th>3</th>\n",
              "      <td>12347.0</td>\n",
              "      <td>2011-06-30</td>\n",
              "      <td>1018.77</td>\n",
              "      <td>509.385</td>\n",
              "      <td>2.0</td>\n",
              "    </tr>\n",
              "    <tr>\n",
              "      <th>4</th>\n",
              "      <td>12347.0</td>\n",
              "      <td>2011-09-30</td>\n",
              "      <td>584.91</td>\n",
              "      <td>584.910</td>\n",
              "      <td>1.0</td>\n",
              "    </tr>\n",
              "    <tr>\n",
              "      <th>5</th>\n",
              "      <td>12347.0</td>\n",
              "      <td>2011-12-31</td>\n",
              "      <td>1294.32</td>\n",
              "      <td>1294.320</td>\n",
              "      <td>1.0</td>\n",
              "    </tr>\n",
              "    <tr>\n",
              "      <th>6</th>\n",
              "      <td>12348.0</td>\n",
              "      <td>2010-12-31</td>\n",
              "      <td>892.80</td>\n",
              "      <td>892.800</td>\n",
              "      <td>1.0</td>\n",
              "    </tr>\n",
              "    <tr>\n",
              "      <th>7</th>\n",
              "      <td>12348.0</td>\n",
              "      <td>2011-03-31</td>\n",
              "      <td>227.44</td>\n",
              "      <td>227.440</td>\n",
              "      <td>1.0</td>\n",
              "    </tr>\n",
              "    <tr>\n",
              "      <th>8</th>\n",
              "      <td>12348.0</td>\n",
              "      <td>2011-06-30</td>\n",
              "      <td>367.00</td>\n",
              "      <td>367.000</td>\n",
              "      <td>1.0</td>\n",
              "    </tr>\n",
              "    <tr>\n",
              "      <th>9</th>\n",
              "      <td>12348.0</td>\n",
              "      <td>2011-09-30</td>\n",
              "      <td>310.00</td>\n",
              "      <td>310.000</td>\n",
              "      <td>1.0</td>\n",
              "    </tr>\n",
              "  </tbody>\n",
              "</table>\n",
              "</div>"
            ],
            "text/plain": [
              "   CustomerID InvoiceDate  Sales_sum  Sales_avg  Sales_count\n",
              "0     12346.0  2011-03-31   77183.60  77183.600          1.0\n",
              "1     12347.0  2010-12-31     711.79    711.790          1.0\n",
              "2     12347.0  2011-03-31     475.39    475.390          1.0\n",
              "3     12347.0  2011-06-30    1018.77    509.385          2.0\n",
              "4     12347.0  2011-09-30     584.91    584.910          1.0\n",
              "5     12347.0  2011-12-31    1294.32   1294.320          1.0\n",
              "6     12348.0  2010-12-31     892.80    892.800          1.0\n",
              "7     12348.0  2011-03-31     227.44    227.440          1.0\n",
              "8     12348.0  2011-06-30     367.00    367.000          1.0\n",
              "9     12348.0  2011-09-30     310.00    310.000          1.0"
            ]
          },
          "metadata": {
            "tags": []
          },
          "execution_count": 287
        }
      ]
    },
    {
      "cell_type": "code",
      "metadata": {
        "id": "RIK5BZiQ9_UO"
      },
      "source": [
        "# Encode the InvoiceDate column\n",
        "date_month_map = {\n",
        "    str(x)[:10]: 'M_%s' % (i+1) for i, x in enumerate(\n",
        "        sorted(data_df.reset_index()['InvoiceDate'].unique(), reverse=True)\n",
        "    )\n",
        "}\n",
        "\n",
        "data_df['M'] = data_df['InvoiceDate'].apply(lambda x: date_month_map[str(x)[:10]])"
      ],
      "execution_count": null,
      "outputs": []
    },
    {
      "cell_type": "code",
      "metadata": {
        "id": "ecdPo_CE9_UO",
        "outputId": "4e581d80-0fb0-44ff-f98b-77e46e194bb9"
      },
      "source": [
        "data_df.head()"
      ],
      "execution_count": null,
      "outputs": [
        {
          "output_type": "execute_result",
          "data": {
            "text/html": [
              "<div>\n",
              "<style scoped>\n",
              "    .dataframe tbody tr th:only-of-type {\n",
              "        vertical-align: middle;\n",
              "    }\n",
              "\n",
              "    .dataframe tbody tr th {\n",
              "        vertical-align: top;\n",
              "    }\n",
              "\n",
              "    .dataframe thead th {\n",
              "        text-align: right;\n",
              "    }\n",
              "</style>\n",
              "<table border=\"1\" class=\"dataframe\">\n",
              "  <thead>\n",
              "    <tr style=\"text-align: right;\">\n",
              "      <th></th>\n",
              "      <th>CustomerID</th>\n",
              "      <th>InvoiceDate</th>\n",
              "      <th>Sales_sum</th>\n",
              "      <th>Sales_avg</th>\n",
              "      <th>Sales_count</th>\n",
              "      <th>M</th>\n",
              "    </tr>\n",
              "  </thead>\n",
              "  <tbody>\n",
              "    <tr>\n",
              "      <th>0</th>\n",
              "      <td>12346.0</td>\n",
              "      <td>2011-03-31</td>\n",
              "      <td>77183.60</td>\n",
              "      <td>77183.600</td>\n",
              "      <td>1.0</td>\n",
              "      <td>M_4</td>\n",
              "    </tr>\n",
              "    <tr>\n",
              "      <th>1</th>\n",
              "      <td>12347.0</td>\n",
              "      <td>2010-12-31</td>\n",
              "      <td>711.79</td>\n",
              "      <td>711.790</td>\n",
              "      <td>1.0</td>\n",
              "      <td>M_5</td>\n",
              "    </tr>\n",
              "    <tr>\n",
              "      <th>2</th>\n",
              "      <td>12347.0</td>\n",
              "      <td>2011-03-31</td>\n",
              "      <td>475.39</td>\n",
              "      <td>475.390</td>\n",
              "      <td>1.0</td>\n",
              "      <td>M_4</td>\n",
              "    </tr>\n",
              "    <tr>\n",
              "      <th>3</th>\n",
              "      <td>12347.0</td>\n",
              "      <td>2011-06-30</td>\n",
              "      <td>1018.77</td>\n",
              "      <td>509.385</td>\n",
              "      <td>2.0</td>\n",
              "      <td>M_3</td>\n",
              "    </tr>\n",
              "    <tr>\n",
              "      <th>4</th>\n",
              "      <td>12347.0</td>\n",
              "      <td>2011-09-30</td>\n",
              "      <td>584.91</td>\n",
              "      <td>584.910</td>\n",
              "      <td>1.0</td>\n",
              "      <td>M_2</td>\n",
              "    </tr>\n",
              "  </tbody>\n",
              "</table>\n",
              "</div>"
            ],
            "text/plain": [
              "   CustomerID InvoiceDate  Sales_sum  Sales_avg  Sales_count    M\n",
              "0     12346.0  2011-03-31   77183.60  77183.600          1.0  M_4\n",
              "1     12347.0  2010-12-31     711.79    711.790          1.0  M_5\n",
              "2     12347.0  2011-03-31     475.39    475.390          1.0  M_4\n",
              "3     12347.0  2011-06-30    1018.77    509.385          2.0  M_3\n",
              "4     12347.0  2011-09-30     584.91    584.910          1.0  M_2"
            ]
          },
          "metadata": {
            "tags": []
          },
          "execution_count": 289
        }
      ]
    },
    {
      "cell_type": "code",
      "metadata": {
        "id": "qdNosDOX9_UO"
      },
      "source": [
        "# Transform this data into tabular data, where the rows represent the individual customers and the columns represent each feature using Pivot table\n",
        "features_df = pd.pivot_table(\n",
        "    data_df.loc[data_df['M'] != 'M_1'], \n",
        "    values=['Sales_sum', 'Sales_avg', 'Sales_count'], \n",
        "    columns='M', \n",
        "    index='CustomerID'\n",
        ")\n",
        "\n",
        "features_df.columns = ['_'.join(col) for col in features_df.columns]"
      ],
      "execution_count": null,
      "outputs": []
    },
    {
      "cell_type": "code",
      "metadata": {
        "id": "s45rmxOY9_UP"
      },
      "source": [
        "features_df = features_df.fillna(0)"
      ],
      "execution_count": null,
      "outputs": []
    },
    {
      "cell_type": "code",
      "metadata": {
        "id": "FJV4uQBi9_UP",
        "outputId": "b6b88e56-c839-4a4b-f5c2-dc09a3c8db18"
      },
      "source": [
        "features_df.head()"
      ],
      "execution_count": null,
      "outputs": [
        {
          "output_type": "execute_result",
          "data": {
            "text/html": [
              "<div>\n",
              "<style scoped>\n",
              "    .dataframe tbody tr th:only-of-type {\n",
              "        vertical-align: middle;\n",
              "    }\n",
              "\n",
              "    .dataframe tbody tr th {\n",
              "        vertical-align: top;\n",
              "    }\n",
              "\n",
              "    .dataframe thead th {\n",
              "        text-align: right;\n",
              "    }\n",
              "</style>\n",
              "<table border=\"1\" class=\"dataframe\">\n",
              "  <thead>\n",
              "    <tr style=\"text-align: right;\">\n",
              "      <th></th>\n",
              "      <th>Sales_avg_M_2</th>\n",
              "      <th>Sales_avg_M_3</th>\n",
              "      <th>Sales_avg_M_4</th>\n",
              "      <th>Sales_avg_M_5</th>\n",
              "      <th>Sales_count_M_2</th>\n",
              "      <th>Sales_count_M_3</th>\n",
              "      <th>Sales_count_M_4</th>\n",
              "      <th>Sales_count_M_5</th>\n",
              "      <th>Sales_sum_M_2</th>\n",
              "      <th>Sales_sum_M_3</th>\n",
              "      <th>Sales_sum_M_4</th>\n",
              "      <th>Sales_sum_M_5</th>\n",
              "    </tr>\n",
              "    <tr>\n",
              "      <th>CustomerID</th>\n",
              "      <th></th>\n",
              "      <th></th>\n",
              "      <th></th>\n",
              "      <th></th>\n",
              "      <th></th>\n",
              "      <th></th>\n",
              "      <th></th>\n",
              "      <th></th>\n",
              "      <th></th>\n",
              "      <th></th>\n",
              "      <th></th>\n",
              "      <th></th>\n",
              "    </tr>\n",
              "  </thead>\n",
              "  <tbody>\n",
              "    <tr>\n",
              "      <th>12346.0</th>\n",
              "      <td>0.00</td>\n",
              "      <td>0.000</td>\n",
              "      <td>77183.600</td>\n",
              "      <td>0.00</td>\n",
              "      <td>0.0</td>\n",
              "      <td>0.0</td>\n",
              "      <td>1.0</td>\n",
              "      <td>0.0</td>\n",
              "      <td>0.00</td>\n",
              "      <td>0.00</td>\n",
              "      <td>77183.60</td>\n",
              "      <td>0.00</td>\n",
              "    </tr>\n",
              "    <tr>\n",
              "      <th>12347.0</th>\n",
              "      <td>584.91</td>\n",
              "      <td>509.385</td>\n",
              "      <td>475.390</td>\n",
              "      <td>711.79</td>\n",
              "      <td>1.0</td>\n",
              "      <td>2.0</td>\n",
              "      <td>1.0</td>\n",
              "      <td>1.0</td>\n",
              "      <td>584.91</td>\n",
              "      <td>1018.77</td>\n",
              "      <td>475.39</td>\n",
              "      <td>711.79</td>\n",
              "    </tr>\n",
              "    <tr>\n",
              "      <th>12348.0</th>\n",
              "      <td>310.00</td>\n",
              "      <td>367.000</td>\n",
              "      <td>227.440</td>\n",
              "      <td>892.80</td>\n",
              "      <td>1.0</td>\n",
              "      <td>1.0</td>\n",
              "      <td>1.0</td>\n",
              "      <td>1.0</td>\n",
              "      <td>310.00</td>\n",
              "      <td>367.00</td>\n",
              "      <td>227.44</td>\n",
              "      <td>892.80</td>\n",
              "    </tr>\n",
              "    <tr>\n",
              "      <th>12350.0</th>\n",
              "      <td>0.00</td>\n",
              "      <td>0.000</td>\n",
              "      <td>334.400</td>\n",
              "      <td>0.00</td>\n",
              "      <td>0.0</td>\n",
              "      <td>0.0</td>\n",
              "      <td>1.0</td>\n",
              "      <td>0.0</td>\n",
              "      <td>0.00</td>\n",
              "      <td>0.00</td>\n",
              "      <td>334.40</td>\n",
              "      <td>0.00</td>\n",
              "    </tr>\n",
              "    <tr>\n",
              "      <th>12352.0</th>\n",
              "      <td>316.25</td>\n",
              "      <td>0.000</td>\n",
              "      <td>312.362</td>\n",
              "      <td>0.00</td>\n",
              "      <td>2.0</td>\n",
              "      <td>0.0</td>\n",
              "      <td>5.0</td>\n",
              "      <td>0.0</td>\n",
              "      <td>632.50</td>\n",
              "      <td>0.00</td>\n",
              "      <td>1561.81</td>\n",
              "      <td>0.00</td>\n",
              "    </tr>\n",
              "  </tbody>\n",
              "</table>\n",
              "</div>"
            ],
            "text/plain": [
              "            Sales_avg_M_2  Sales_avg_M_3  Sales_avg_M_4  Sales_avg_M_5  \\\n",
              "CustomerID                                                               \n",
              "12346.0              0.00          0.000      77183.600           0.00   \n",
              "12347.0            584.91        509.385        475.390         711.79   \n",
              "12348.0            310.00        367.000        227.440         892.80   \n",
              "12350.0              0.00          0.000        334.400           0.00   \n",
              "12352.0            316.25          0.000        312.362           0.00   \n",
              "\n",
              "            Sales_count_M_2  Sales_count_M_3  Sales_count_M_4  \\\n",
              "CustomerID                                                      \n",
              "12346.0                 0.0              0.0              1.0   \n",
              "12347.0                 1.0              2.0              1.0   \n",
              "12348.0                 1.0              1.0              1.0   \n",
              "12350.0                 0.0              0.0              1.0   \n",
              "12352.0                 2.0              0.0              5.0   \n",
              "\n",
              "            Sales_count_M_5  Sales_sum_M_2  Sales_sum_M_3  Sales_sum_M_4  \\\n",
              "CustomerID                                                                 \n",
              "12346.0                 0.0           0.00           0.00       77183.60   \n",
              "12347.0                 1.0         584.91        1018.77         475.39   \n",
              "12348.0                 1.0         310.00         367.00         227.44   \n",
              "12350.0                 0.0           0.00           0.00         334.40   \n",
              "12352.0                 0.0         632.50           0.00        1561.81   \n",
              "\n",
              "            Sales_sum_M_5  \n",
              "CustomerID                 \n",
              "12346.0              0.00  \n",
              "12347.0            711.79  \n",
              "12348.0            892.80  \n",
              "12350.0              0.00  \n",
              "12352.0              0.00  "
            ]
          },
          "metadata": {
            "tags": []
          },
          "execution_count": 292
        }
      ]
    },
    {
      "cell_type": "code",
      "metadata": {
        "id": "P_iQIyqd9_UP"
      },
      "source": [
        "# last 3 months 'M1' group and Sales_sum as the target variable as we want to prdict sales for 3 months\n",
        "response_df = data_df.loc[\n",
        "    data_df['M'] == 'M_1',\n",
        "    ['CustomerID', 'Sales_sum']\n",
        "]\n",
        "\n",
        "response_df.columns = ['CustomerID', 'CLV_'+'3M']"
      ],
      "execution_count": null,
      "outputs": []
    },
    {
      "cell_type": "code",
      "metadata": {
        "id": "Nqepw39R9_UP",
        "outputId": "35e34a50-7192-4255-eef6-f545e8362847"
      },
      "source": [
        "response_df.head(10)"
      ],
      "execution_count": null,
      "outputs": [
        {
          "output_type": "execute_result",
          "data": {
            "text/html": [
              "<div>\n",
              "<style scoped>\n",
              "    .dataframe tbody tr th:only-of-type {\n",
              "        vertical-align: middle;\n",
              "    }\n",
              "\n",
              "    .dataframe tbody tr th {\n",
              "        vertical-align: top;\n",
              "    }\n",
              "\n",
              "    .dataframe thead th {\n",
              "        text-align: right;\n",
              "    }\n",
              "</style>\n",
              "<table border=\"1\" class=\"dataframe\">\n",
              "  <thead>\n",
              "    <tr style=\"text-align: right;\">\n",
              "      <th></th>\n",
              "      <th>CustomerID</th>\n",
              "      <th>CLV_3M</th>\n",
              "    </tr>\n",
              "  </thead>\n",
              "  <tbody>\n",
              "    <tr>\n",
              "      <th>5</th>\n",
              "      <td>12347.0</td>\n",
              "      <td>1294.32</td>\n",
              "    </tr>\n",
              "    <tr>\n",
              "      <th>10</th>\n",
              "      <td>12349.0</td>\n",
              "      <td>1757.55</td>\n",
              "    </tr>\n",
              "    <tr>\n",
              "      <th>14</th>\n",
              "      <td>12352.0</td>\n",
              "      <td>311.73</td>\n",
              "    </tr>\n",
              "    <tr>\n",
              "      <th>20</th>\n",
              "      <td>12356.0</td>\n",
              "      <td>58.35</td>\n",
              "    </tr>\n",
              "    <tr>\n",
              "      <th>21</th>\n",
              "      <td>12357.0</td>\n",
              "      <td>6207.67</td>\n",
              "    </tr>\n",
              "    <tr>\n",
              "      <th>25</th>\n",
              "      <td>12359.0</td>\n",
              "      <td>2876.85</td>\n",
              "    </tr>\n",
              "    <tr>\n",
              "      <th>28</th>\n",
              "      <td>12360.0</td>\n",
              "      <td>1043.78</td>\n",
              "    </tr>\n",
              "    <tr>\n",
              "      <th>33</th>\n",
              "      <td>12362.0</td>\n",
              "      <td>2119.85</td>\n",
              "    </tr>\n",
              "    <tr>\n",
              "      <th>37</th>\n",
              "      <td>12364.0</td>\n",
              "      <td>299.06</td>\n",
              "    </tr>\n",
              "    <tr>\n",
              "      <th>41</th>\n",
              "      <td>12370.0</td>\n",
              "      <td>739.28</td>\n",
              "    </tr>\n",
              "  </tbody>\n",
              "</table>\n",
              "</div>"
            ],
            "text/plain": [
              "    CustomerID   CLV_3M\n",
              "5      12347.0  1294.32\n",
              "10     12349.0  1757.55\n",
              "14     12352.0   311.73\n",
              "20     12356.0    58.35\n",
              "21     12357.0  6207.67\n",
              "25     12359.0  2876.85\n",
              "28     12360.0  1043.78\n",
              "33     12362.0  2119.85\n",
              "37     12364.0   299.06\n",
              "41     12370.0   739.28"
            ]
          },
          "metadata": {
            "tags": []
          },
          "execution_count": 294
        }
      ]
    },
    {
      "cell_type": "code",
      "metadata": {
        "id": "XvbYJT2c9_UQ"
      },
      "source": [
        " # Combine the 2 sets together\n",
        "sample_set_df = features_df.merge(\n",
        "    response_df, \n",
        "    left_index=True, \n",
        "    right_on='CustomerID',\n",
        "    how='left'\n",
        ")\n",
        "\n",
        "sample_set_df = sample_set_df.fillna(0)"
      ],
      "execution_count": null,
      "outputs": []
    },
    {
      "cell_type": "code",
      "metadata": {
        "id": "oEJfg9r39_UQ",
        "outputId": "50e08a6f-2ec0-47a4-90e2-872056da6c9e"
      },
      "source": [
        "sample_set_df.head()"
      ],
      "execution_count": null,
      "outputs": [
        {
          "output_type": "execute_result",
          "data": {
            "text/html": [
              "<div>\n",
              "<style scoped>\n",
              "    .dataframe tbody tr th:only-of-type {\n",
              "        vertical-align: middle;\n",
              "    }\n",
              "\n",
              "    .dataframe tbody tr th {\n",
              "        vertical-align: top;\n",
              "    }\n",
              "\n",
              "    .dataframe thead th {\n",
              "        text-align: right;\n",
              "    }\n",
              "</style>\n",
              "<table border=\"1\" class=\"dataframe\">\n",
              "  <thead>\n",
              "    <tr style=\"text-align: right;\">\n",
              "      <th></th>\n",
              "      <th>Sales_avg_M_2</th>\n",
              "      <th>Sales_avg_M_3</th>\n",
              "      <th>Sales_avg_M_4</th>\n",
              "      <th>Sales_avg_M_5</th>\n",
              "      <th>Sales_count_M_2</th>\n",
              "      <th>Sales_count_M_3</th>\n",
              "      <th>Sales_count_M_4</th>\n",
              "      <th>Sales_count_M_5</th>\n",
              "      <th>Sales_sum_M_2</th>\n",
              "      <th>Sales_sum_M_3</th>\n",
              "      <th>Sales_sum_M_4</th>\n",
              "      <th>Sales_sum_M_5</th>\n",
              "      <th>CustomerID</th>\n",
              "      <th>CLV_3M</th>\n",
              "    </tr>\n",
              "  </thead>\n",
              "  <tbody>\n",
              "    <tr>\n",
              "      <th>NaN</th>\n",
              "      <td>0.00</td>\n",
              "      <td>0.000</td>\n",
              "      <td>77183.600</td>\n",
              "      <td>0.00</td>\n",
              "      <td>0.0</td>\n",
              "      <td>0.0</td>\n",
              "      <td>1.0</td>\n",
              "      <td>0.0</td>\n",
              "      <td>0.00</td>\n",
              "      <td>0.00</td>\n",
              "      <td>77183.60</td>\n",
              "      <td>0.00</td>\n",
              "      <td>12346.0</td>\n",
              "      <td>0.00</td>\n",
              "    </tr>\n",
              "    <tr>\n",
              "      <th>5.0</th>\n",
              "      <td>584.91</td>\n",
              "      <td>509.385</td>\n",
              "      <td>475.390</td>\n",
              "      <td>711.79</td>\n",
              "      <td>1.0</td>\n",
              "      <td>2.0</td>\n",
              "      <td>1.0</td>\n",
              "      <td>1.0</td>\n",
              "      <td>584.91</td>\n",
              "      <td>1018.77</td>\n",
              "      <td>475.39</td>\n",
              "      <td>711.79</td>\n",
              "      <td>12347.0</td>\n",
              "      <td>1294.32</td>\n",
              "    </tr>\n",
              "    <tr>\n",
              "      <th>NaN</th>\n",
              "      <td>310.00</td>\n",
              "      <td>367.000</td>\n",
              "      <td>227.440</td>\n",
              "      <td>892.80</td>\n",
              "      <td>1.0</td>\n",
              "      <td>1.0</td>\n",
              "      <td>1.0</td>\n",
              "      <td>1.0</td>\n",
              "      <td>310.00</td>\n",
              "      <td>367.00</td>\n",
              "      <td>227.44</td>\n",
              "      <td>892.80</td>\n",
              "      <td>12348.0</td>\n",
              "      <td>0.00</td>\n",
              "    </tr>\n",
              "    <tr>\n",
              "      <th>NaN</th>\n",
              "      <td>0.00</td>\n",
              "      <td>0.000</td>\n",
              "      <td>334.400</td>\n",
              "      <td>0.00</td>\n",
              "      <td>0.0</td>\n",
              "      <td>0.0</td>\n",
              "      <td>1.0</td>\n",
              "      <td>0.0</td>\n",
              "      <td>0.00</td>\n",
              "      <td>0.00</td>\n",
              "      <td>334.40</td>\n",
              "      <td>0.00</td>\n",
              "      <td>12350.0</td>\n",
              "      <td>0.00</td>\n",
              "    </tr>\n",
              "    <tr>\n",
              "      <th>14.0</th>\n",
              "      <td>316.25</td>\n",
              "      <td>0.000</td>\n",
              "      <td>312.362</td>\n",
              "      <td>0.00</td>\n",
              "      <td>2.0</td>\n",
              "      <td>0.0</td>\n",
              "      <td>5.0</td>\n",
              "      <td>0.0</td>\n",
              "      <td>632.50</td>\n",
              "      <td>0.00</td>\n",
              "      <td>1561.81</td>\n",
              "      <td>0.00</td>\n",
              "      <td>12352.0</td>\n",
              "      <td>311.73</td>\n",
              "    </tr>\n",
              "  </tbody>\n",
              "</table>\n",
              "</div>"
            ],
            "text/plain": [
              "      Sales_avg_M_2  Sales_avg_M_3  Sales_avg_M_4  Sales_avg_M_5  \\\n",
              "NaN            0.00          0.000      77183.600           0.00   \n",
              "5.0          584.91        509.385        475.390         711.79   \n",
              "NaN          310.00        367.000        227.440         892.80   \n",
              "NaN            0.00          0.000        334.400           0.00   \n",
              "14.0         316.25          0.000        312.362           0.00   \n",
              "\n",
              "      Sales_count_M_2  Sales_count_M_3  Sales_count_M_4  Sales_count_M_5  \\\n",
              "NaN               0.0              0.0              1.0              0.0   \n",
              "5.0               1.0              2.0              1.0              1.0   \n",
              "NaN               1.0              1.0              1.0              1.0   \n",
              "NaN               0.0              0.0              1.0              0.0   \n",
              "14.0              2.0              0.0              5.0              0.0   \n",
              "\n",
              "      Sales_sum_M_2  Sales_sum_M_3  Sales_sum_M_4  Sales_sum_M_5  CustomerID  \\\n",
              "NaN            0.00           0.00       77183.60           0.00     12346.0   \n",
              "5.0          584.91        1018.77         475.39         711.79     12347.0   \n",
              "NaN          310.00         367.00         227.44         892.80     12348.0   \n",
              "NaN            0.00           0.00         334.40           0.00     12350.0   \n",
              "14.0         632.50           0.00        1561.81           0.00     12352.0   \n",
              "\n",
              "       CLV_3M  \n",
              "NaN      0.00  \n",
              "5.0   1294.32  \n",
              "NaN      0.00  \n",
              "NaN      0.00  \n",
              "14.0   311.73  "
            ]
          },
          "metadata": {
            "tags": []
          },
          "execution_count": 296
        }
      ]
    },
    {
      "cell_type": "markdown",
      "metadata": {
        "id": "0hYgxfat9_UQ"
      },
      "source": [
        "## Perform Linear Regression"
      ]
    },
    {
      "cell_type": "code",
      "metadata": {
        "id": "uMp_L-xp9_UQ"
      },
      "source": [
        "from sklearn.model_selection import train_test_split\n",
        "\n",
        "target_var = 'CLV_'+'3M'\n",
        "all_features = [x for x in sample_set_df.columns if x not in ['CustomerID', target_var]]\n",
        "\n",
        "x_train, x_test, y_train, y_test = train_test_split(\n",
        "    sample_set_df[all_features], \n",
        "    sample_set_df[target_var], \n",
        "    test_size=0.2\n",
        ")"
      ],
      "execution_count": null,
      "outputs": []
    },
    {
      "cell_type": "code",
      "metadata": {
        "id": "lk41YS5W9_UR",
        "outputId": "0ca0c7be-ec50-4e2b-8ae5-307fdf5fb567"
      },
      "source": [
        "from sklearn.linear_model import LinearRegression\n",
        "\n",
        "reg_fit = LinearRegression()\n",
        "reg_fit.fit(x_train, y_train)"
      ],
      "execution_count": null,
      "outputs": [
        {
          "output_type": "execute_result",
          "data": {
            "text/plain": [
              "LinearRegression(copy_X=True, fit_intercept=True, n_jobs=None, normalize=False)"
            ]
          },
          "metadata": {
            "tags": []
          },
          "execution_count": 303
        }
      ]
    },
    {
      "cell_type": "code",
      "metadata": {
        "id": "l87fDBNY9_UR",
        "outputId": "4f0238da-d078-4845-f07f-c9cff91748bf"
      },
      "source": [
        "# Calculate the intercept\n",
        "reg_fit.intercept_"
      ],
      "execution_count": null,
      "outputs": [
        {
          "output_type": "execute_result",
          "data": {
            "text/plain": [
              "45.18549038196295"
            ]
          },
          "metadata": {
            "tags": []
          },
          "execution_count": 304
        }
      ]
    },
    {
      "cell_type": "code",
      "metadata": {
        "id": "_BP7xNss9_UR",
        "outputId": "fdd69a81-a532-4f75-f2b2-9162513c1582"
      },
      "source": [
        "# Calculate the coefficient\n",
        "reg_fit.coef_"
      ],
      "execution_count": null,
      "outputs": [
        {
          "output_type": "execute_result",
          "data": {
            "text/plain": [
              "array([  0.3263423 ,  -0.46867378,  -0.19876692,  -0.43257994,\n",
              "        82.81067484,  39.26879612, -97.791505  , -67.53018702,\n",
              "         0.21439493,   0.3538864 ,   0.23337402,   0.88620414])"
            ]
          },
          "metadata": {
            "tags": []
          },
          "execution_count": 305
        }
      ]
    },
    {
      "cell_type": "code",
      "metadata": {
        "id": "-yiXUF_u9_UR"
      },
      "source": [
        "coef=pd.DataFrame(list(zip(all_features, reg_fit.coef_)))\n",
        "coef.columns =['feature', 'coef']"
      ],
      "execution_count": null,
      "outputs": []
    },
    {
      "cell_type": "code",
      "metadata": {
        "id": "Yft6vHCZ9_US",
        "outputId": "a3d5a416-aeb7-4b60-bf59-fda77d4952aa"
      },
      "source": [
        "coef"
      ],
      "execution_count": null,
      "outputs": [
        {
          "output_type": "execute_result",
          "data": {
            "text/html": [
              "<div>\n",
              "<style scoped>\n",
              "    .dataframe tbody tr th:only-of-type {\n",
              "        vertical-align: middle;\n",
              "    }\n",
              "\n",
              "    .dataframe tbody tr th {\n",
              "        vertical-align: top;\n",
              "    }\n",
              "\n",
              "    .dataframe thead th {\n",
              "        text-align: right;\n",
              "    }\n",
              "</style>\n",
              "<table border=\"1\" class=\"dataframe\">\n",
              "  <thead>\n",
              "    <tr style=\"text-align: right;\">\n",
              "      <th></th>\n",
              "      <th>feature</th>\n",
              "      <th>coef</th>\n",
              "    </tr>\n",
              "  </thead>\n",
              "  <tbody>\n",
              "    <tr>\n",
              "      <th>0</th>\n",
              "      <td>Sales_avg_M_2</td>\n",
              "      <td>0.326342</td>\n",
              "    </tr>\n",
              "    <tr>\n",
              "      <th>1</th>\n",
              "      <td>Sales_avg_M_3</td>\n",
              "      <td>-0.468674</td>\n",
              "    </tr>\n",
              "    <tr>\n",
              "      <th>2</th>\n",
              "      <td>Sales_avg_M_4</td>\n",
              "      <td>-0.198767</td>\n",
              "    </tr>\n",
              "    <tr>\n",
              "      <th>3</th>\n",
              "      <td>Sales_avg_M_5</td>\n",
              "      <td>-0.432580</td>\n",
              "    </tr>\n",
              "    <tr>\n",
              "      <th>4</th>\n",
              "      <td>Sales_count_M_2</td>\n",
              "      <td>82.810675</td>\n",
              "    </tr>\n",
              "    <tr>\n",
              "      <th>5</th>\n",
              "      <td>Sales_count_M_3</td>\n",
              "      <td>39.268796</td>\n",
              "    </tr>\n",
              "    <tr>\n",
              "      <th>6</th>\n",
              "      <td>Sales_count_M_4</td>\n",
              "      <td>-97.791505</td>\n",
              "    </tr>\n",
              "    <tr>\n",
              "      <th>7</th>\n",
              "      <td>Sales_count_M_5</td>\n",
              "      <td>-67.530187</td>\n",
              "    </tr>\n",
              "    <tr>\n",
              "      <th>8</th>\n",
              "      <td>Sales_sum_M_2</td>\n",
              "      <td>0.214395</td>\n",
              "    </tr>\n",
              "    <tr>\n",
              "      <th>9</th>\n",
              "      <td>Sales_sum_M_3</td>\n",
              "      <td>0.353886</td>\n",
              "    </tr>\n",
              "    <tr>\n",
              "      <th>10</th>\n",
              "      <td>Sales_sum_M_4</td>\n",
              "      <td>0.233374</td>\n",
              "    </tr>\n",
              "    <tr>\n",
              "      <th>11</th>\n",
              "      <td>Sales_sum_M_5</td>\n",
              "      <td>0.886204</td>\n",
              "    </tr>\n",
              "  </tbody>\n",
              "</table>\n",
              "</div>"
            ],
            "text/plain": [
              "            feature       coef\n",
              "0     Sales_avg_M_2   0.326342\n",
              "1     Sales_avg_M_3  -0.468674\n",
              "2     Sales_avg_M_4  -0.198767\n",
              "3     Sales_avg_M_5  -0.432580\n",
              "4   Sales_count_M_2  82.810675\n",
              "5   Sales_count_M_3  39.268796\n",
              "6   Sales_count_M_4 -97.791505\n",
              "7   Sales_count_M_5 -67.530187\n",
              "8     Sales_sum_M_2   0.214395\n",
              "9     Sales_sum_M_3   0.353886\n",
              "10    Sales_sum_M_4   0.233374\n",
              "11    Sales_sum_M_5   0.886204"
            ]
          },
          "metadata": {
            "tags": []
          },
          "execution_count": 307
        }
      ]
    },
    {
      "cell_type": "markdown",
      "metadata": {
        "id": "vC1CK8nL9_US"
      },
      "source": [
        "## Evaluate the Regression Model performance"
      ]
    },
    {
      "cell_type": "code",
      "metadata": {
        "id": "kM_j8PaR9_US"
      },
      "source": [
        "train_preds = reg_fit.predict(x_train)\n",
        "test_preds = reg_fit.predict(x_test)"
      ],
      "execution_count": null,
      "outputs": []
    },
    {
      "cell_type": "code",
      "metadata": {
        "id": "a2MDv_nO9_US"
      },
      "source": [
        "from sklearn.metrics import r2_score, median_absolute_error"
      ],
      "execution_count": null,
      "outputs": []
    },
    {
      "cell_type": "code",
      "metadata": {
        "id": "3btUzE779_US",
        "outputId": "6d435eb4-ef78-49d2-d40d-c7cc643e8c54"
      },
      "source": [
        "print('In-Sample R-Squared: %0.4f' % r2_score(y_true=y_train, y_pred=train_preds))\n",
        "print('Out-of-Sample R-Squared: %0.4f' % r2_score(y_true=y_test, y_pred=test_preds))"
      ],
      "execution_count": null,
      "outputs": [
        {
          "output_type": "stream",
          "text": [
            "In-Sample R-Squared: 0.7358\n",
            "Out-of-Sample R-Squared: 0.5152\n"
          ],
          "name": "stdout"
        }
      ]
    },
    {
      "cell_type": "code",
      "metadata": {
        "id": "baGUnf0H9_UT",
        "outputId": "d4bd00e7-0e5c-4e4b-9a44-ad35f331c6f8"
      },
      "source": [
        "print('In-Sample MSE: %0.4f' % median_absolute_error(y_true=y_train, y_pred=train_preds))\n",
        "print('Out-of-Sample MSE: %0.4f' % median_absolute_error(y_true=y_test, y_pred=test_preds))"
      ],
      "execution_count": null,
      "outputs": [
        {
          "output_type": "stream",
          "text": [
            "In-Sample MSE: 209.7951\n",
            "Out-of-Sample MSE: 208.4059\n"
          ],
          "name": "stdout"
        }
      ]
    },
    {
      "cell_type": "code",
      "metadata": {
        "id": "pY6qQz1T9_UT",
        "outputId": "fa3454ce-2c14-4676-dea1-efaeae8978c7"
      },
      "source": [
        "# scatter plot of predicted versus actual.\n",
        "plt.scatter(y_test, test_preds)\n",
        "plt.plot([0, max(y_test)], [0, max(test_preds)], color='gray', lw=1, linestyle='--')\n",
        "\n",
        "plt.xlabel('actual')\n",
        "plt.ylabel('predicted')\n",
        "plt.title('Out-of-Sample Actual vs. Predicted')\n",
        "plt.grid()\n",
        "\n",
        "plt.show()"
      ],
      "execution_count": null,
      "outputs": [
        {
          "output_type": "display_data",
          "data": {
            "image/png": "[encoded data removed]",
            "text/plain": [
              "<Figure size 432x288 with 1 Axes>"
            ]
          },
          "metadata": {
            "tags": [],
            "needs_background": "light"
          }
        }
      ]
    },
    {
      "cell_type": "markdown",
      "metadata": {
        "id": "ASUiM8mg9_UT"
      },
      "source": [
        "## Q. What is the splitting criteria in the code for evaluating the model performance ?\n",
        "####  Here the splitting criteria for evaluating the model performance is 20% testing and 80% training.\n",
        "\n",
        "## Q. What do the regression coefficients indicate? Explain them with reference to the target variable.\n",
        "#### The regression coefficients indicate the correlation between independent and dependent variables.\n",
        "\n",
        "## Q. What is the difference between the in sample R-squared and out of sample R-squared.\n",
        "#### In sample R-squared is for training data and ut of sample R-squared is for testing data.\n",
        "\n",
        "## Q. What does R-squared indicate about model performance?\n",
        "#### R-squared is a statistical method to know how close the data are to the fitted regression line. Higher r-suqared means model is working good(our r-squared is 73% which is good) .\n",
        "\n",
        "## Q. What does MSE indicate about the model performance?\n",
        "#### The best value for MSE is 0 and itcalculate the loss between target variable and prediction.\n",
        "## Q. Explain the scatter plot.\n",
        "#### This scatter plot tells us that for example, if the actual data is 2000 than predicted data should be near to 2000. In this plot most of the data points look like they are predicted correct but there are some data which are not predicted correct such as the actual data point at 12000 is predicted to 9000.\n",
        "\n",
        "## Q. If we change the splitting criteria to 70-30 does it make a huge difference to the performance of the model.\n",
        "#### If we have less training data and more testing data than the model perform low and opposite for better performance. if we change splitting to 70-30 than it will make little difference to the performance of the model. \n",
        "\n",
        "## Q. Finally, comment on the results of product analytics and CLV from a marketing perspective \n",
        "#### By analyzing product analytics we can say that some items were in demand for some times and decreased while some items were never came in trend. so, company should focus on that items to make its demand and to make customers to buy them. Moreover, comapny should focus on repeating the customers because they are generating 40-50% of total revanue. \n",
        "#### Customer lifetime value is the technique to how to keep the existing customers. The company should focus on how to increase clv score because it costs more to gain new customers. "
      ]
    },
    {
      "cell_type": "code",
      "metadata": {
        "id": "H2VT8O739_UT"
      },
      "source": [
        ""
      ],
      "execution_count": null,
      "outputs": []
    }
  ]
}